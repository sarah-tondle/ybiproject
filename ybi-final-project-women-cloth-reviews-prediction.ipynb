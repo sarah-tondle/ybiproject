{
 "cells": [
  {
   "cell_type": "markdown",
   "id": "8dc90b3a",
   "metadata": {
    "papermill": {
     "duration": 0.014855,
     "end_time": "2023-07-15T13:50:24.124693",
     "exception": false,
     "start_time": "2023-07-15T13:50:24.109838",
     "status": "completed"
    },
    "tags": []
   },
   "source": [
    "# Women Cloth Reviews Prediction with Multi Nomial Naïve Bayes\n",
    "---\n",
    "Multinomial Naïve Bayes algorithm is a probabilistic learning method that is mostly used in Natural Language Processing. It is also suitable for text classification with discrete feature. In this project it will be used to build a women cloth review prediction model.\n",
    "\n",
    "Data Source: [YBIFoundation/ProjectHub-MachineLearning Women Clothing Commerce Review dataset](https://raw.githubusercontent.com/YBIFoundation/ProjectHub-MachineLearning/main/Women%20Clothing%20E-Commerce%20Review.csv)"
   ]
  },
  {
   "cell_type": "markdown",
   "id": "5049ee59",
   "metadata": {
    "papermill": {
     "duration": 0.013533,
     "end_time": "2023-07-15T13:50:24.152245",
     "exception": false,
     "start_time": "2023-07-15T13:50:24.138712",
     "status": "completed"
    },
    "tags": []
   },
   "source": [
    "### Importing Libraries"
   ]
  },
  {
   "cell_type": "code",
   "execution_count": 4,
   "id": "25448754",
   "metadata": {
    "_kg_hide-input": false,
    "_kg_hide-output": true,
    "execution": {
     "iopub.execute_input": "2023-07-15T13:50:24.184604Z",
     "iopub.status.busy": "2023-07-15T13:50:24.184213Z",
     "iopub.status.idle": "2023-07-15T13:50:25.631466Z",
     "shell.execute_reply": "2023-07-15T13:50:25.630301Z"
    },
    "papermill": {
     "duration": 1.465743,
     "end_time": "2023-07-15T13:50:25.634038",
     "exception": false,
     "start_time": "2023-07-15T13:50:24.168295",
     "status": "completed"
    },
    "tags": []
   },
   "outputs": [],
   "source": [
    "import pandas as pd\n",
    "import numpy as np\n",
    "import matplotlib.pyplot as plt\n",
    "import seaborn as sns"
   ]
  },
  {
   "cell_type": "markdown",
   "id": "335af6d5",
   "metadata": {
    "papermill": {
     "duration": 0.013448,
     "end_time": "2023-07-15T13:50:25.661800",
     "exception": false,
     "start_time": "2023-07-15T13:50:25.648352",
     "status": "completed"
    },
    "tags": []
   },
   "source": [
    "### Importing Dataset"
   ]
  },
  {
   "cell_type": "code",
   "execution_count": 5,
   "id": "5a14ad6c",
   "metadata": {
    "execution": {
     "iopub.execute_input": "2023-07-15T13:50:25.691965Z",
     "iopub.status.busy": "2023-07-15T13:50:25.691195Z",
     "iopub.status.idle": "2023-07-15T13:50:26.767639Z",
     "shell.execute_reply": "2023-07-15T13:50:26.766727Z"
    },
    "papermill": {
     "duration": 1.094704,
     "end_time": "2023-07-15T13:50:26.770201",
     "exception": false,
     "start_time": "2023-07-15T13:50:25.675497",
     "status": "completed"
    },
    "tags": []
   },
   "outputs": [],
   "source": [
    "df = pd.read_csv(\"https://raw.githubusercontent.com/YBIFoundation/ProjectHub-MachineLearning/main/Women%20Clothing%20E-Commerce%20Review.csv\")"
   ]
  },
  {
   "cell_type": "markdown",
   "id": "0cff90a5",
   "metadata": {
    "papermill": {
     "duration": 0.013565,
     "end_time": "2023-07-15T13:50:26.799210",
     "exception": false,
     "start_time": "2023-07-15T13:50:26.785645",
     "status": "completed"
    },
    "tags": []
   },
   "source": [
    "### Data visualization\n",
    "\n",
    "Samples of the data is visualized to better understand how it is structured."
   ]
  },
  {
   "cell_type": "code",
   "execution_count": 6,
   "id": "6e0e2c4d",
   "metadata": {
    "execution": {
     "iopub.execute_input": "2023-07-15T13:50:26.828987Z",
     "iopub.status.busy": "2023-07-15T13:50:26.828313Z",
     "iopub.status.idle": "2023-07-15T13:50:26.851380Z",
     "shell.execute_reply": "2023-07-15T13:50:26.850583Z"
    },
    "papermill": {
     "duration": 0.040466,
     "end_time": "2023-07-15T13:50:26.853516",
     "exception": false,
     "start_time": "2023-07-15T13:50:26.813050",
     "status": "completed"
    },
    "tags": []
   },
   "outputs": [
    {
     "data": {
      "text/html": [
       "<div>\n",
       "<style scoped>\n",
       "    .dataframe tbody tr th:only-of-type {\n",
       "        vertical-align: middle;\n",
       "    }\n",
       "\n",
       "    .dataframe tbody tr th {\n",
       "        vertical-align: top;\n",
       "    }\n",
       "\n",
       "    .dataframe thead th {\n",
       "        text-align: right;\n",
       "    }\n",
       "</style>\n",
       "<table border=\"1\" class=\"dataframe\">\n",
       "  <thead>\n",
       "    <tr style=\"text-align: right;\">\n",
       "      <th></th>\n",
       "      <th>Clothing ID</th>\n",
       "      <th>Age</th>\n",
       "      <th>Title</th>\n",
       "      <th>Review</th>\n",
       "      <th>Rating</th>\n",
       "      <th>Recommended</th>\n",
       "      <th>Positive Feedback</th>\n",
       "      <th>Division</th>\n",
       "      <th>Department</th>\n",
       "      <th>Category</th>\n",
       "    </tr>\n",
       "  </thead>\n",
       "  <tbody>\n",
       "    <tr>\n",
       "      <th>0</th>\n",
       "      <td>767</td>\n",
       "      <td>33</td>\n",
       "      <td>NaN</td>\n",
       "      <td>Absolutely wonderful - silky and sexy and comf...</td>\n",
       "      <td>4</td>\n",
       "      <td>1</td>\n",
       "      <td>0</td>\n",
       "      <td>Initmates</td>\n",
       "      <td>Intimate</td>\n",
       "      <td>Intimates</td>\n",
       "    </tr>\n",
       "    <tr>\n",
       "      <th>1</th>\n",
       "      <td>1080</td>\n",
       "      <td>34</td>\n",
       "      <td>NaN</td>\n",
       "      <td>Love this dress!  it's sooo pretty.  i happene...</td>\n",
       "      <td>5</td>\n",
       "      <td>1</td>\n",
       "      <td>4</td>\n",
       "      <td>General</td>\n",
       "      <td>Dresses</td>\n",
       "      <td>Dresses</td>\n",
       "    </tr>\n",
       "    <tr>\n",
       "      <th>2</th>\n",
       "      <td>1077</td>\n",
       "      <td>60</td>\n",
       "      <td>Some major design flaws</td>\n",
       "      <td>I had such high hopes for this dress and reall...</td>\n",
       "      <td>3</td>\n",
       "      <td>0</td>\n",
       "      <td>0</td>\n",
       "      <td>General</td>\n",
       "      <td>Dresses</td>\n",
       "      <td>Dresses</td>\n",
       "    </tr>\n",
       "    <tr>\n",
       "      <th>3</th>\n",
       "      <td>1049</td>\n",
       "      <td>50</td>\n",
       "      <td>My favorite buy!</td>\n",
       "      <td>I love, love, love this jumpsuit. it's fun, fl...</td>\n",
       "      <td>5</td>\n",
       "      <td>1</td>\n",
       "      <td>0</td>\n",
       "      <td>General Petite</td>\n",
       "      <td>Bottoms</td>\n",
       "      <td>Pants</td>\n",
       "    </tr>\n",
       "    <tr>\n",
       "      <th>4</th>\n",
       "      <td>847</td>\n",
       "      <td>47</td>\n",
       "      <td>Flattering shirt</td>\n",
       "      <td>This shirt is very flattering to all due to th...</td>\n",
       "      <td>5</td>\n",
       "      <td>1</td>\n",
       "      <td>6</td>\n",
       "      <td>General</td>\n",
       "      <td>Tops</td>\n",
       "      <td>Blouses</td>\n",
       "    </tr>\n",
       "  </tbody>\n",
       "</table>\n",
       "</div>"
      ],
      "text/plain": [
       "   Clothing ID  Age                    Title  \\\n",
       "0          767   33                      NaN   \n",
       "1         1080   34                      NaN   \n",
       "2         1077   60  Some major design flaws   \n",
       "3         1049   50         My favorite buy!   \n",
       "4          847   47         Flattering shirt   \n",
       "\n",
       "                                              Review  Rating  Recommended  \\\n",
       "0  Absolutely wonderful - silky and sexy and comf...       4            1   \n",
       "1  Love this dress!  it's sooo pretty.  i happene...       5            1   \n",
       "2  I had such high hopes for this dress and reall...       3            0   \n",
       "3  I love, love, love this jumpsuit. it's fun, fl...       5            1   \n",
       "4  This shirt is very flattering to all due to th...       5            1   \n",
       "\n",
       "   Positive Feedback        Division Department   Category  \n",
       "0                  0       Initmates   Intimate  Intimates  \n",
       "1                  4         General    Dresses    Dresses  \n",
       "2                  0         General    Dresses    Dresses  \n",
       "3                  0  General Petite    Bottoms      Pants  \n",
       "4                  6         General       Tops    Blouses  "
      ]
     },
     "execution_count": 6,
     "metadata": {},
     "output_type": "execute_result"
    }
   ],
   "source": [
    "df.head()"
   ]
  },
  {
   "cell_type": "code",
   "execution_count": 7,
   "id": "6bbd36cb",
   "metadata": {
    "execution": {
     "iopub.execute_input": "2023-07-15T13:50:26.884152Z",
     "iopub.status.busy": "2023-07-15T13:50:26.883473Z",
     "iopub.status.idle": "2023-07-15T13:50:26.948304Z",
     "shell.execute_reply": "2023-07-15T13:50:26.947010Z"
    },
    "papermill": {
     "duration": 0.083003,
     "end_time": "2023-07-15T13:50:26.950839",
     "exception": false,
     "start_time": "2023-07-15T13:50:26.867836",
     "status": "completed"
    },
    "tags": []
   },
   "outputs": [
    {
     "name": "stdout",
     "output_type": "stream",
     "text": [
      "<class 'pandas.core.frame.DataFrame'>\n",
      "RangeIndex: 23486 entries, 0 to 23485\n",
      "Data columns (total 10 columns):\n",
      " #   Column             Non-Null Count  Dtype \n",
      "---  ------             --------------  ----- \n",
      " 0   Clothing ID        23486 non-null  int64 \n",
      " 1   Age                23486 non-null  int64 \n",
      " 2   Title              19676 non-null  object\n",
      " 3   Review             22641 non-null  object\n",
      " 4   Rating             23486 non-null  int64 \n",
      " 5   Recommended        23486 non-null  int64 \n",
      " 6   Positive Feedback  23486 non-null  int64 \n",
      " 7   Division           23472 non-null  object\n",
      " 8   Department         23472 non-null  object\n",
      " 9   Category           23472 non-null  object\n",
      "dtypes: int64(5), object(5)\n",
      "memory usage: 1.8+ MB\n"
     ]
    }
   ],
   "source": [
    "df.info()"
   ]
  },
  {
   "cell_type": "code",
   "execution_count": 8,
   "id": "b7f53ec6",
   "metadata": {
    "execution": {
     "iopub.execute_input": "2023-07-15T13:50:26.981904Z",
     "iopub.status.busy": "2023-07-15T13:50:26.981214Z",
     "iopub.status.idle": "2023-07-15T13:50:26.988013Z",
     "shell.execute_reply": "2023-07-15T13:50:26.987001Z"
    },
    "papermill": {
     "duration": 0.024935,
     "end_time": "2023-07-15T13:50:26.990410",
     "exception": false,
     "start_time": "2023-07-15T13:50:26.965475",
     "status": "completed"
    },
    "tags": []
   },
   "outputs": [
    {
     "data": {
      "text/plain": [
       "(23486, 10)"
      ]
     },
     "execution_count": 8,
     "metadata": {},
     "output_type": "execute_result"
    }
   ],
   "source": [
    "df.shape"
   ]
  },
  {
   "cell_type": "markdown",
   "id": "bf6b5a98",
   "metadata": {
    "papermill": {
     "duration": 0.014187,
     "end_time": "2023-07-15T13:50:27.019332",
     "exception": false,
     "start_time": "2023-07-15T13:50:27.005145",
     "status": "completed"
    },
    "tags": []
   },
   "source": [
    "### Data preprocessing\n",
    "\n",
    "Calling `isna()` method along with the `sum()` method on dataframe `df` to find the Review columns with no review text for further processing."
   ]
  },
  {
   "cell_type": "code",
   "execution_count": 9,
   "id": "9aab0ec9",
   "metadata": {
    "execution": {
     "iopub.execute_input": "2023-07-15T13:50:27.050689Z",
     "iopub.status.busy": "2023-07-15T13:50:27.049902Z",
     "iopub.status.idle": "2023-07-15T13:50:27.096400Z",
     "shell.execute_reply": "2023-07-15T13:50:27.095589Z"
    },
    "papermill": {
     "duration": 0.064695,
     "end_time": "2023-07-15T13:50:27.098609",
     "exception": false,
     "start_time": "2023-07-15T13:50:27.033914",
     "status": "completed"
    },
    "tags": []
   },
   "outputs": [
    {
     "data": {
      "text/plain": [
       "Clothing ID             0\n",
       "Age                     0\n",
       "Title                3810\n",
       "Review                845\n",
       "Rating                  0\n",
       "Recommended             0\n",
       "Positive Feedback       0\n",
       "Division               14\n",
       "Department             14\n",
       "Category               14\n",
       "dtype: int64"
      ]
     },
     "execution_count": 9,
     "metadata": {},
     "output_type": "execute_result"
    }
   ],
   "source": [
    "df.isna().sum()"
   ]
  },
  {
   "cell_type": "markdown",
   "id": "3ced508d",
   "metadata": {
    "papermill": {
     "duration": 0.014299,
     "end_time": "2023-07-15T13:50:27.127578",
     "exception": false,
     "start_time": "2023-07-15T13:50:27.113279",
     "status": "completed"
    },
    "tags": []
   },
   "source": [
    "Filling missing values in the Review column with the value `No review is given`."
   ]
  },
  {
   "cell_type": "code",
   "execution_count": 12,
   "id": "e74d69ce",
   "metadata": {
    "execution": {
     "iopub.execute_input": "2023-07-15T13:50:27.160154Z",
     "iopub.status.busy": "2023-07-15T13:50:27.159108Z",
     "iopub.status.idle": "2023-07-15T13:50:27.221611Z",
     "shell.execute_reply": "2023-07-15T13:50:27.220785Z"
    },
    "papermill": {
     "duration": 0.081072,
     "end_time": "2023-07-15T13:50:27.223824",
     "exception": false,
     "start_time": "2023-07-15T13:50:27.142752",
     "status": "completed"
    },
    "tags": []
   },
   "outputs": [],
   "source": [
    "df.loc[df['Review'] == \"\"] = np.nan  # Use .loc[] to avoid chained assignment\n",
    "df['Review'] = df['Review'].fillna(\"No review is given\")  # Avoid inplace=True\n"
   ]
  },
  {
   "cell_type": "code",
   "execution_count": 13,
   "id": "5c573093",
   "metadata": {
    "execution": {
     "iopub.execute_input": "2023-07-15T13:50:27.256237Z",
     "iopub.status.busy": "2023-07-15T13:50:27.255523Z",
     "iopub.status.idle": "2023-07-15T13:50:27.263967Z",
     "shell.execute_reply": "2023-07-15T13:50:27.262983Z"
    },
    "papermill": {
     "duration": 0.027704,
     "end_time": "2023-07-15T13:50:27.266278",
     "exception": false,
     "start_time": "2023-07-15T13:50:27.238574",
     "status": "completed"
    },
    "tags": []
   },
   "outputs": [
    {
     "data": {
      "text/plain": [
       "0        Absolutely wonderful - silky and sexy and comf...\n",
       "1        Love this dress!  it's sooo pretty.  i happene...\n",
       "2        I had such high hopes for this dress and reall...\n",
       "3        I love, love, love this jumpsuit. it's fun, fl...\n",
       "4        This shirt is very flattering to all due to th...\n",
       "                               ...                        \n",
       "23481    I was very happy to snag this dress at such a ...\n",
       "23482    It reminds me of maternity clothes. soft, stre...\n",
       "23483    This fit well, but the top was very see throug...\n",
       "23484    I bought this dress for a wedding i have this ...\n",
       "23485    This dress in a lovely platinum is feminine an...\n",
       "Name: Review, Length: 23486, dtype: object"
      ]
     },
     "execution_count": 13,
     "metadata": {},
     "output_type": "execute_result"
    }
   ],
   "source": [
    "df['Review']"
   ]
  },
  {
   "cell_type": "markdown",
   "id": "de083376",
   "metadata": {
    "papermill": {
     "duration": 0.014645,
     "end_time": "2023-07-15T13:50:27.295892",
     "exception": false,
     "start_time": "2023-07-15T13:50:27.281247",
     "status": "completed"
    },
    "tags": []
   },
   "source": [
    "### Defining Target Variable (y) and Feature Variables (X)"
   ]
  },
  {
   "cell_type": "code",
   "execution_count": 14,
   "id": "26a10462",
   "metadata": {
    "execution": {
     "iopub.execute_input": "2023-07-15T13:50:27.328901Z",
     "iopub.status.busy": "2023-07-15T13:50:27.327563Z",
     "iopub.status.idle": "2023-07-15T13:50:27.335577Z",
     "shell.execute_reply": "2023-07-15T13:50:27.334501Z"
    },
    "papermill": {
     "duration": 0.027005,
     "end_time": "2023-07-15T13:50:27.337840",
     "exception": false,
     "start_time": "2023-07-15T13:50:27.310835",
     "status": "completed"
    },
    "tags": []
   },
   "outputs": [
    {
     "data": {
      "text/plain": [
       "Index(['Clothing ID', 'Age', 'Title', 'Review', 'Rating', 'Recommended',\n",
       "       'Positive Feedback', 'Division', 'Department', 'Category'],\n",
       "      dtype='object')"
      ]
     },
     "execution_count": 14,
     "metadata": {},
     "output_type": "execute_result"
    }
   ],
   "source": [
    "df.columns"
   ]
  },
  {
   "cell_type": "code",
   "execution_count": 15,
   "id": "cd7ee691",
   "metadata": {
    "execution": {
     "iopub.execute_input": "2023-07-15T13:50:27.370134Z",
     "iopub.status.busy": "2023-07-15T13:50:27.369707Z",
     "iopub.status.idle": "2023-07-15T13:50:27.380463Z",
     "shell.execute_reply": "2023-07-15T13:50:27.379166Z"
    },
    "papermill": {
     "duration": 0.030112,
     "end_time": "2023-07-15T13:50:27.383231",
     "exception": false,
     "start_time": "2023-07-15T13:50:27.353119",
     "status": "completed"
    },
    "tags": []
   },
   "outputs": [
    {
     "data": {
      "text/plain": [
       "Rating\n",
       "5    13131\n",
       "4     5077\n",
       "3     2871\n",
       "2     1565\n",
       "1      842\n",
       "Name: count, dtype: int64"
      ]
     },
     "execution_count": 15,
     "metadata": {},
     "output_type": "execute_result"
    }
   ],
   "source": [
    "x = df['Review']\n",
    "y = df['Rating']\n",
    "df['Rating'].value_counts()"
   ]
  },
  {
   "cell_type": "markdown",
   "id": "788c3a70",
   "metadata": {
    "papermill": {
     "duration": 0.015203,
     "end_time": "2023-07-15T13:50:27.414446",
     "exception": false,
     "start_time": "2023-07-15T13:50:27.399243",
     "status": "completed"
    },
    "tags": []
   },
   "source": [
    "### Train Test Split"
   ]
  },
  {
   "cell_type": "code",
   "execution_count": 20,
   "id": "0b9c630a",
   "metadata": {
    "execution": {
     "iopub.execute_input": "2023-07-15T13:50:27.446926Z",
     "iopub.status.busy": "2023-07-15T13:50:27.446473Z",
     "iopub.status.idle": "2023-07-15T13:50:27.718018Z",
     "shell.execute_reply": "2023-07-15T13:50:27.716841Z"
    },
    "papermill": {
     "duration": 0.290712,
     "end_time": "2023-07-15T13:50:27.720745",
     "exception": false,
     "start_time": "2023-07-15T13:50:27.430033",
     "status": "completed"
    },
    "tags": []
   },
   "outputs": [
    {
     "data": {
      "text/plain": [
       "((16440,), (7046,), (16440,), (7046,))"
      ]
     },
     "execution_count": 20,
     "metadata": {},
     "output_type": "execute_result"
    }
   ],
   "source": [
    "from sklearn.model_selection import train_test_split\n",
    "\n",
    "x_train, x_test, y_train, y_test = train_test_split(x, y, train_size=0.7, stratify=y, random_state=2529)\n",
    "x_train.shape, x_test.shape, y_train.shape, y_test.shape"
   ]
  },
  {
   "cell_type": "markdown",
   "id": "fea5c053",
   "metadata": {
    "papermill": {
     "duration": 0.015249,
     "end_time": "2023-07-15T13:50:27.751462",
     "exception": false,
     "start_time": "2023-07-15T13:50:27.736213",
     "status": "completed"
    },
    "tags": []
   },
   "source": [
    "### Getting Tokens from Feature Text\n",
    "\n",
    "Using `CountVectorizer` from sci-kit learn"
   ]
  },
  {
   "cell_type": "code",
   "execution_count": 21,
   "id": "dbd806dd",
   "metadata": {
    "execution": {
     "iopub.execute_input": "2023-07-15T13:50:27.785708Z",
     "iopub.status.busy": "2023-07-15T13:50:27.785295Z",
     "iopub.status.idle": "2023-07-15T13:50:31.906226Z",
     "shell.execute_reply": "2023-07-15T13:50:31.905002Z"
    },
    "papermill": {
     "duration": 4.141489,
     "end_time": "2023-07-15T13:50:31.908626",
     "exception": false,
     "start_time": "2023-07-15T13:50:27.767137",
     "status": "completed"
    },
    "tags": []
   },
   "outputs": [
    {
     "data": {
      "text/plain": [
       "array(['00 big', '00 fits', '00 petite', ..., 'zipper zip',\n",
       "       'zippered pockets', 'zippers buttons'],\n",
       "      shape=(50000,), dtype=object)"
      ]
     },
     "execution_count": 21,
     "metadata": {},
     "output_type": "execute_result"
    }
   ],
   "source": [
    "from sklearn.feature_extraction.text import CountVectorizer\n",
    "\n",
    "cv = CountVectorizer(lowercase=True, analyzer='word', ngram_range=(2, 3), stop_words='english', max_features=50000)\n",
    "x_train = cv.fit_transform(x_train)\n",
    "cv.get_feature_names_out()"
   ]
  },
  {
   "cell_type": "code",
   "execution_count": 22,
   "id": "00683c01",
   "metadata": {
    "execution": {
     "iopub.execute_input": "2023-07-15T13:50:31.941776Z",
     "iopub.status.busy": "2023-07-15T13:50:31.941349Z",
     "iopub.status.idle": "2023-07-15T13:50:32.554838Z",
     "shell.execute_reply": "2023-07-15T13:50:32.553682Z"
    },
    "papermill": {
     "duration": 0.633142,
     "end_time": "2023-07-15T13:50:32.557393",
     "exception": false,
     "start_time": "2023-07-15T13:50:31.924251",
     "status": "completed"
    },
    "tags": []
   },
   "outputs": [
    {
     "data": {
      "text/plain": [
       "array([[0, 0, 0, ..., 0, 0, 0],\n",
       "       [0, 0, 0, ..., 0, 0, 0],\n",
       "       [0, 0, 0, ..., 0, 0, 0],\n",
       "       ...,\n",
       "       [0, 0, 0, ..., 0, 0, 0],\n",
       "       [0, 0, 0, ..., 0, 0, 0],\n",
       "       [0, 0, 0, ..., 0, 0, 0]], shape=(16440, 50000))"
      ]
     },
     "execution_count": 22,
     "metadata": {},
     "output_type": "execute_result"
    }
   ],
   "source": [
    "x_train.toarray()"
   ]
  },
  {
   "cell_type": "code",
   "execution_count": 23,
   "id": "e629d4de",
   "metadata": {
    "execution": {
     "iopub.execute_input": "2023-07-15T13:50:32.591465Z",
     "iopub.status.busy": "2023-07-15T13:50:32.590309Z",
     "iopub.status.idle": "2023-07-15T13:50:34.461938Z",
     "shell.execute_reply": "2023-07-15T13:50:34.460652Z"
    },
    "papermill": {
     "duration": 1.89128,
     "end_time": "2023-07-15T13:50:34.464468",
     "exception": false,
     "start_time": "2023-07-15T13:50:32.573188",
     "status": "completed"
    },
    "tags": []
   },
   "outputs": [
    {
     "data": {
      "text/plain": [
       "array(['00 24 xs', '00 aren', '00 aren size', ..., 'zone roomy looking',\n",
       "       'zone style', 'zone style daughter'], shape=(50000,), dtype=object)"
      ]
     },
     "execution_count": 23,
     "metadata": {},
     "output_type": "execute_result"
    }
   ],
   "source": [
    "x_test = cv.fit_transform(x_test)\n",
    "cv.get_feature_names_out()"
   ]
  },
  {
   "cell_type": "code",
   "execution_count": 25,
   "id": "a913443d",
   "metadata": {
    "execution": {
     "iopub.execute_input": "2023-07-15T13:50:34.499003Z",
     "iopub.status.busy": "2023-07-15T13:50:34.498615Z",
     "iopub.status.idle": "2023-07-15T13:50:34.756442Z",
     "shell.execute_reply": "2023-07-15T13:50:34.755163Z"
    },
    "papermill": {
     "duration": 0.27848,
     "end_time": "2023-07-15T13:50:34.758855",
     "exception": false,
     "start_time": "2023-07-15T13:50:34.480375",
     "status": "completed"
    },
    "tags": []
   },
   "outputs": [
    {
     "name": "stdout",
     "output_type": "stream",
     "text": [
      "x_test is a sparse matrix, no need to convert to array.\n"
     ]
    }
   ],
   "source": [
    " # Check if x_test is sparse\n",
    "from scipy.sparse import issparse\n",
    "\n",
    "if issparse(x_test):\n",
    "    print(\"x_test is a sparse matrix, no need to convert to array.\")\n"
   ]
  },
  {
   "cell_type": "markdown",
   "id": "cfcafe59",
   "metadata": {
    "papermill": {
     "duration": 0.015796,
     "end_time": "2023-07-15T13:50:34.790684",
     "exception": false,
     "start_time": "2023-07-15T13:50:34.774888",
     "status": "completed"
    },
    "tags": []
   },
   "source": [
    "### Model training\n",
    "\n",
    "Using Multinomial Naïve Bayes algorithm, which is implemented in sci-kit as `MultinomialNB`"
   ]
  },
  {
   "cell_type": "code",
   "execution_count": 26,
   "id": "1eee908c",
   "metadata": {
    "execution": {
     "iopub.execute_input": "2023-07-15T13:50:34.825900Z",
     "iopub.status.busy": "2023-07-15T13:50:34.825204Z",
     "iopub.status.idle": "2023-07-15T13:50:34.863278Z",
     "shell.execute_reply": "2023-07-15T13:50:34.862176Z"
    },
    "papermill": {
     "duration": 0.058589,
     "end_time": "2023-07-15T13:50:34.865979",
     "exception": false,
     "start_time": "2023-07-15T13:50:34.807390",
     "status": "completed"
    },
    "tags": []
   },
   "outputs": [
    {
     "data": {
      "text/html": [
       "<style>#sk-container-id-1 {\n",
       "  /* Definition of color scheme common for light and dark mode */\n",
       "  --sklearn-color-text: #000;\n",
       "  --sklearn-color-text-muted: #666;\n",
       "  --sklearn-color-line: gray;\n",
       "  /* Definition of color scheme for unfitted estimators */\n",
       "  --sklearn-color-unfitted-level-0: #fff5e6;\n",
       "  --sklearn-color-unfitted-level-1: #f6e4d2;\n",
       "  --sklearn-color-unfitted-level-2: #ffe0b3;\n",
       "  --sklearn-color-unfitted-level-3: chocolate;\n",
       "  /* Definition of color scheme for fitted estimators */\n",
       "  --sklearn-color-fitted-level-0: #f0f8ff;\n",
       "  --sklearn-color-fitted-level-1: #d4ebff;\n",
       "  --sklearn-color-fitted-level-2: #b3dbfd;\n",
       "  --sklearn-color-fitted-level-3: cornflowerblue;\n",
       "\n",
       "  /* Specific color for light theme */\n",
       "  --sklearn-color-text-on-default-background: var(--sg-text-color, var(--theme-code-foreground, var(--jp-content-font-color1, black)));\n",
       "  --sklearn-color-background: var(--sg-background-color, var(--theme-background, var(--jp-layout-color0, white)));\n",
       "  --sklearn-color-border-box: var(--sg-text-color, var(--theme-code-foreground, var(--jp-content-font-color1, black)));\n",
       "  --sklearn-color-icon: #696969;\n",
       "\n",
       "  @media (prefers-color-scheme: dark) {\n",
       "    /* Redefinition of color scheme for dark theme */\n",
       "    --sklearn-color-text-on-default-background: var(--sg-text-color, var(--theme-code-foreground, var(--jp-content-font-color1, white)));\n",
       "    --sklearn-color-background: var(--sg-background-color, var(--theme-background, var(--jp-layout-color0, #111)));\n",
       "    --sklearn-color-border-box: var(--sg-text-color, var(--theme-code-foreground, var(--jp-content-font-color1, white)));\n",
       "    --sklearn-color-icon: #878787;\n",
       "  }\n",
       "}\n",
       "\n",
       "#sk-container-id-1 {\n",
       "  color: var(--sklearn-color-text);\n",
       "}\n",
       "\n",
       "#sk-container-id-1 pre {\n",
       "  padding: 0;\n",
       "}\n",
       "\n",
       "#sk-container-id-1 input.sk-hidden--visually {\n",
       "  border: 0;\n",
       "  clip: rect(1px 1px 1px 1px);\n",
       "  clip: rect(1px, 1px, 1px, 1px);\n",
       "  height: 1px;\n",
       "  margin: -1px;\n",
       "  overflow: hidden;\n",
       "  padding: 0;\n",
       "  position: absolute;\n",
       "  width: 1px;\n",
       "}\n",
       "\n",
       "#sk-container-id-1 div.sk-dashed-wrapped {\n",
       "  border: 1px dashed var(--sklearn-color-line);\n",
       "  margin: 0 0.4em 0.5em 0.4em;\n",
       "  box-sizing: border-box;\n",
       "  padding-bottom: 0.4em;\n",
       "  background-color: var(--sklearn-color-background);\n",
       "}\n",
       "\n",
       "#sk-container-id-1 div.sk-container {\n",
       "  /* jupyter's `normalize.less` sets `[hidden] { display: none; }`\n",
       "     but bootstrap.min.css set `[hidden] { display: none !important; }`\n",
       "     so we also need the `!important` here to be able to override the\n",
       "     default hidden behavior on the sphinx rendered scikit-learn.org.\n",
       "     See: https://github.com/scikit-learn/scikit-learn/issues/21755 */\n",
       "  display: inline-block !important;\n",
       "  position: relative;\n",
       "}\n",
       "\n",
       "#sk-container-id-1 div.sk-text-repr-fallback {\n",
       "  display: none;\n",
       "}\n",
       "\n",
       "div.sk-parallel-item,\n",
       "div.sk-serial,\n",
       "div.sk-item {\n",
       "  /* draw centered vertical line to link estimators */\n",
       "  background-image: linear-gradient(var(--sklearn-color-text-on-default-background), var(--sklearn-color-text-on-default-background));\n",
       "  background-size: 2px 100%;\n",
       "  background-repeat: no-repeat;\n",
       "  background-position: center center;\n",
       "}\n",
       "\n",
       "/* Parallel-specific style estimator block */\n",
       "\n",
       "#sk-container-id-1 div.sk-parallel-item::after {\n",
       "  content: \"\";\n",
       "  width: 100%;\n",
       "  border-bottom: 2px solid var(--sklearn-color-text-on-default-background);\n",
       "  flex-grow: 1;\n",
       "}\n",
       "\n",
       "#sk-container-id-1 div.sk-parallel {\n",
       "  display: flex;\n",
       "  align-items: stretch;\n",
       "  justify-content: center;\n",
       "  background-color: var(--sklearn-color-background);\n",
       "  position: relative;\n",
       "}\n",
       "\n",
       "#sk-container-id-1 div.sk-parallel-item {\n",
       "  display: flex;\n",
       "  flex-direction: column;\n",
       "}\n",
       "\n",
       "#sk-container-id-1 div.sk-parallel-item:first-child::after {\n",
       "  align-self: flex-end;\n",
       "  width: 50%;\n",
       "}\n",
       "\n",
       "#sk-container-id-1 div.sk-parallel-item:last-child::after {\n",
       "  align-self: flex-start;\n",
       "  width: 50%;\n",
       "}\n",
       "\n",
       "#sk-container-id-1 div.sk-parallel-item:only-child::after {\n",
       "  width: 0;\n",
       "}\n",
       "\n",
       "/* Serial-specific style estimator block */\n",
       "\n",
       "#sk-container-id-1 div.sk-serial {\n",
       "  display: flex;\n",
       "  flex-direction: column;\n",
       "  align-items: center;\n",
       "  background-color: var(--sklearn-color-background);\n",
       "  padding-right: 1em;\n",
       "  padding-left: 1em;\n",
       "}\n",
       "\n",
       "\n",
       "/* Toggleable style: style used for estimator/Pipeline/ColumnTransformer box that is\n",
       "clickable and can be expanded/collapsed.\n",
       "- Pipeline and ColumnTransformer use this feature and define the default style\n",
       "- Estimators will overwrite some part of the style using the `sk-estimator` class\n",
       "*/\n",
       "\n",
       "/* Pipeline and ColumnTransformer style (default) */\n",
       "\n",
       "#sk-container-id-1 div.sk-toggleable {\n",
       "  /* Default theme specific background. It is overwritten whether we have a\n",
       "  specific estimator or a Pipeline/ColumnTransformer */\n",
       "  background-color: var(--sklearn-color-background);\n",
       "}\n",
       "\n",
       "/* Toggleable label */\n",
       "#sk-container-id-1 label.sk-toggleable__label {\n",
       "  cursor: pointer;\n",
       "  display: flex;\n",
       "  width: 100%;\n",
       "  margin-bottom: 0;\n",
       "  padding: 0.5em;\n",
       "  box-sizing: border-box;\n",
       "  text-align: center;\n",
       "  align-items: start;\n",
       "  justify-content: space-between;\n",
       "  gap: 0.5em;\n",
       "}\n",
       "\n",
       "#sk-container-id-1 label.sk-toggleable__label .caption {\n",
       "  font-size: 0.6rem;\n",
       "  font-weight: lighter;\n",
       "  color: var(--sklearn-color-text-muted);\n",
       "}\n",
       "\n",
       "#sk-container-id-1 label.sk-toggleable__label-arrow:before {\n",
       "  /* Arrow on the left of the label */\n",
       "  content: \"▸\";\n",
       "  float: left;\n",
       "  margin-right: 0.25em;\n",
       "  color: var(--sklearn-color-icon);\n",
       "}\n",
       "\n",
       "#sk-container-id-1 label.sk-toggleable__label-arrow:hover:before {\n",
       "  color: var(--sklearn-color-text);\n",
       "}\n",
       "\n",
       "/* Toggleable content - dropdown */\n",
       "\n",
       "#sk-container-id-1 div.sk-toggleable__content {\n",
       "  max-height: 0;\n",
       "  max-width: 0;\n",
       "  overflow: hidden;\n",
       "  text-align: left;\n",
       "  /* unfitted */\n",
       "  background-color: var(--sklearn-color-unfitted-level-0);\n",
       "}\n",
       "\n",
       "#sk-container-id-1 div.sk-toggleable__content.fitted {\n",
       "  /* fitted */\n",
       "  background-color: var(--sklearn-color-fitted-level-0);\n",
       "}\n",
       "\n",
       "#sk-container-id-1 div.sk-toggleable__content pre {\n",
       "  margin: 0.2em;\n",
       "  border-radius: 0.25em;\n",
       "  color: var(--sklearn-color-text);\n",
       "  /* unfitted */\n",
       "  background-color: var(--sklearn-color-unfitted-level-0);\n",
       "}\n",
       "\n",
       "#sk-container-id-1 div.sk-toggleable__content.fitted pre {\n",
       "  /* unfitted */\n",
       "  background-color: var(--sklearn-color-fitted-level-0);\n",
       "}\n",
       "\n",
       "#sk-container-id-1 input.sk-toggleable__control:checked~div.sk-toggleable__content {\n",
       "  /* Expand drop-down */\n",
       "  max-height: 200px;\n",
       "  max-width: 100%;\n",
       "  overflow: auto;\n",
       "}\n",
       "\n",
       "#sk-container-id-1 input.sk-toggleable__control:checked~label.sk-toggleable__label-arrow:before {\n",
       "  content: \"▾\";\n",
       "}\n",
       "\n",
       "/* Pipeline/ColumnTransformer-specific style */\n",
       "\n",
       "#sk-container-id-1 div.sk-label input.sk-toggleable__control:checked~label.sk-toggleable__label {\n",
       "  color: var(--sklearn-color-text);\n",
       "  background-color: var(--sklearn-color-unfitted-level-2);\n",
       "}\n",
       "\n",
       "#sk-container-id-1 div.sk-label.fitted input.sk-toggleable__control:checked~label.sk-toggleable__label {\n",
       "  background-color: var(--sklearn-color-fitted-level-2);\n",
       "}\n",
       "\n",
       "/* Estimator-specific style */\n",
       "\n",
       "/* Colorize estimator box */\n",
       "#sk-container-id-1 div.sk-estimator input.sk-toggleable__control:checked~label.sk-toggleable__label {\n",
       "  /* unfitted */\n",
       "  background-color: var(--sklearn-color-unfitted-level-2);\n",
       "}\n",
       "\n",
       "#sk-container-id-1 div.sk-estimator.fitted input.sk-toggleable__control:checked~label.sk-toggleable__label {\n",
       "  /* fitted */\n",
       "  background-color: var(--sklearn-color-fitted-level-2);\n",
       "}\n",
       "\n",
       "#sk-container-id-1 div.sk-label label.sk-toggleable__label,\n",
       "#sk-container-id-1 div.sk-label label {\n",
       "  /* The background is the default theme color */\n",
       "  color: var(--sklearn-color-text-on-default-background);\n",
       "}\n",
       "\n",
       "/* On hover, darken the color of the background */\n",
       "#sk-container-id-1 div.sk-label:hover label.sk-toggleable__label {\n",
       "  color: var(--sklearn-color-text);\n",
       "  background-color: var(--sklearn-color-unfitted-level-2);\n",
       "}\n",
       "\n",
       "/* Label box, darken color on hover, fitted */\n",
       "#sk-container-id-1 div.sk-label.fitted:hover label.sk-toggleable__label.fitted {\n",
       "  color: var(--sklearn-color-text);\n",
       "  background-color: var(--sklearn-color-fitted-level-2);\n",
       "}\n",
       "\n",
       "/* Estimator label */\n",
       "\n",
       "#sk-container-id-1 div.sk-label label {\n",
       "  font-family: monospace;\n",
       "  font-weight: bold;\n",
       "  display: inline-block;\n",
       "  line-height: 1.2em;\n",
       "}\n",
       "\n",
       "#sk-container-id-1 div.sk-label-container {\n",
       "  text-align: center;\n",
       "}\n",
       "\n",
       "/* Estimator-specific */\n",
       "#sk-container-id-1 div.sk-estimator {\n",
       "  font-family: monospace;\n",
       "  border: 1px dotted var(--sklearn-color-border-box);\n",
       "  border-radius: 0.25em;\n",
       "  box-sizing: border-box;\n",
       "  margin-bottom: 0.5em;\n",
       "  /* unfitted */\n",
       "  background-color: var(--sklearn-color-unfitted-level-0);\n",
       "}\n",
       "\n",
       "#sk-container-id-1 div.sk-estimator.fitted {\n",
       "  /* fitted */\n",
       "  background-color: var(--sklearn-color-fitted-level-0);\n",
       "}\n",
       "\n",
       "/* on hover */\n",
       "#sk-container-id-1 div.sk-estimator:hover {\n",
       "  /* unfitted */\n",
       "  background-color: var(--sklearn-color-unfitted-level-2);\n",
       "}\n",
       "\n",
       "#sk-container-id-1 div.sk-estimator.fitted:hover {\n",
       "  /* fitted */\n",
       "  background-color: var(--sklearn-color-fitted-level-2);\n",
       "}\n",
       "\n",
       "/* Specification for estimator info (e.g. \"i\" and \"?\") */\n",
       "\n",
       "/* Common style for \"i\" and \"?\" */\n",
       "\n",
       ".sk-estimator-doc-link,\n",
       "a:link.sk-estimator-doc-link,\n",
       "a:visited.sk-estimator-doc-link {\n",
       "  float: right;\n",
       "  font-size: smaller;\n",
       "  line-height: 1em;\n",
       "  font-family: monospace;\n",
       "  background-color: var(--sklearn-color-background);\n",
       "  border-radius: 1em;\n",
       "  height: 1em;\n",
       "  width: 1em;\n",
       "  text-decoration: none !important;\n",
       "  margin-left: 0.5em;\n",
       "  text-align: center;\n",
       "  /* unfitted */\n",
       "  border: var(--sklearn-color-unfitted-level-1) 1pt solid;\n",
       "  color: var(--sklearn-color-unfitted-level-1);\n",
       "}\n",
       "\n",
       ".sk-estimator-doc-link.fitted,\n",
       "a:link.sk-estimator-doc-link.fitted,\n",
       "a:visited.sk-estimator-doc-link.fitted {\n",
       "  /* fitted */\n",
       "  border: var(--sklearn-color-fitted-level-1) 1pt solid;\n",
       "  color: var(--sklearn-color-fitted-level-1);\n",
       "}\n",
       "\n",
       "/* On hover */\n",
       "div.sk-estimator:hover .sk-estimator-doc-link:hover,\n",
       ".sk-estimator-doc-link:hover,\n",
       "div.sk-label-container:hover .sk-estimator-doc-link:hover,\n",
       ".sk-estimator-doc-link:hover {\n",
       "  /* unfitted */\n",
       "  background-color: var(--sklearn-color-unfitted-level-3);\n",
       "  color: var(--sklearn-color-background);\n",
       "  text-decoration: none;\n",
       "}\n",
       "\n",
       "div.sk-estimator.fitted:hover .sk-estimator-doc-link.fitted:hover,\n",
       ".sk-estimator-doc-link.fitted:hover,\n",
       "div.sk-label-container:hover .sk-estimator-doc-link.fitted:hover,\n",
       ".sk-estimator-doc-link.fitted:hover {\n",
       "  /* fitted */\n",
       "  background-color: var(--sklearn-color-fitted-level-3);\n",
       "  color: var(--sklearn-color-background);\n",
       "  text-decoration: none;\n",
       "}\n",
       "\n",
       "/* Span, style for the box shown on hovering the info icon */\n",
       ".sk-estimator-doc-link span {\n",
       "  display: none;\n",
       "  z-index: 9999;\n",
       "  position: relative;\n",
       "  font-weight: normal;\n",
       "  right: .2ex;\n",
       "  padding: .5ex;\n",
       "  margin: .5ex;\n",
       "  width: min-content;\n",
       "  min-width: 20ex;\n",
       "  max-width: 50ex;\n",
       "  color: var(--sklearn-color-text);\n",
       "  box-shadow: 2pt 2pt 4pt #999;\n",
       "  /* unfitted */\n",
       "  background: var(--sklearn-color-unfitted-level-0);\n",
       "  border: .5pt solid var(--sklearn-color-unfitted-level-3);\n",
       "}\n",
       "\n",
       ".sk-estimator-doc-link.fitted span {\n",
       "  /* fitted */\n",
       "  background: var(--sklearn-color-fitted-level-0);\n",
       "  border: var(--sklearn-color-fitted-level-3);\n",
       "}\n",
       "\n",
       ".sk-estimator-doc-link:hover span {\n",
       "  display: block;\n",
       "}\n",
       "\n",
       "/* \"?\"-specific style due to the `<a>` HTML tag */\n",
       "\n",
       "#sk-container-id-1 a.estimator_doc_link {\n",
       "  float: right;\n",
       "  font-size: 1rem;\n",
       "  line-height: 1em;\n",
       "  font-family: monospace;\n",
       "  background-color: var(--sklearn-color-background);\n",
       "  border-radius: 1rem;\n",
       "  height: 1rem;\n",
       "  width: 1rem;\n",
       "  text-decoration: none;\n",
       "  /* unfitted */\n",
       "  color: var(--sklearn-color-unfitted-level-1);\n",
       "  border: var(--sklearn-color-unfitted-level-1) 1pt solid;\n",
       "}\n",
       "\n",
       "#sk-container-id-1 a.estimator_doc_link.fitted {\n",
       "  /* fitted */\n",
       "  border: var(--sklearn-color-fitted-level-1) 1pt solid;\n",
       "  color: var(--sklearn-color-fitted-level-1);\n",
       "}\n",
       "\n",
       "/* On hover */\n",
       "#sk-container-id-1 a.estimator_doc_link:hover {\n",
       "  /* unfitted */\n",
       "  background-color: var(--sklearn-color-unfitted-level-3);\n",
       "  color: var(--sklearn-color-background);\n",
       "  text-decoration: none;\n",
       "}\n",
       "\n",
       "#sk-container-id-1 a.estimator_doc_link.fitted:hover {\n",
       "  /* fitted */\n",
       "  background-color: var(--sklearn-color-fitted-level-3);\n",
       "}\n",
       "</style><div id=\"sk-container-id-1\" class=\"sk-top-container\"><div class=\"sk-text-repr-fallback\"><pre>MultinomialNB()</pre><b>In a Jupyter environment, please rerun this cell to show the HTML representation or trust the notebook. <br />On GitHub, the HTML representation is unable to render, please try loading this page with nbviewer.org.</b></div><div class=\"sk-container\" hidden><div class=\"sk-item\"><div class=\"sk-estimator fitted sk-toggleable\"><input class=\"sk-toggleable__control sk-hidden--visually\" id=\"sk-estimator-id-1\" type=\"checkbox\" checked><label for=\"sk-estimator-id-1\" class=\"sk-toggleable__label fitted sk-toggleable__label-arrow\"><div><div>MultinomialNB</div></div><div><a class=\"sk-estimator-doc-link fitted\" rel=\"noreferrer\" target=\"_blank\" href=\"https://scikit-learn.org/1.6/modules/generated/sklearn.naive_bayes.MultinomialNB.html\">?<span>Documentation for MultinomialNB</span></a><span class=\"sk-estimator-doc-link fitted\">i<span>Fitted</span></span></div></label><div class=\"sk-toggleable__content fitted\"><pre>MultinomialNB()</pre></div> </div></div></div></div>"
      ],
      "text/plain": [
       "MultinomialNB()"
      ]
     },
     "execution_count": 26,
     "metadata": {},
     "output_type": "execute_result"
    }
   ],
   "source": [
    "from sklearn.naive_bayes import MultinomialNB\n",
    "\n",
    "model = MultinomialNB()\n",
    "model.fit(x_train, y_train)"
   ]
  },
  {
   "cell_type": "markdown",
   "id": "cfb1cbf9",
   "metadata": {
    "papermill": {
     "duration": 0.016595,
     "end_time": "2023-07-15T13:50:34.899242",
     "exception": false,
     "start_time": "2023-07-15T13:50:34.882647",
     "status": "completed"
    },
    "tags": []
   },
   "source": [
    "### Model prediction"
   ]
  },
  {
   "cell_type": "code",
   "execution_count": 27,
   "id": "e4bb1f03",
   "metadata": {
    "execution": {
     "iopub.execute_input": "2023-07-15T13:50:34.933830Z",
     "iopub.status.busy": "2023-07-15T13:50:34.933135Z",
     "iopub.status.idle": "2023-07-15T13:50:34.944371Z",
     "shell.execute_reply": "2023-07-15T13:50:34.943358Z"
    },
    "papermill": {
     "duration": 0.031136,
     "end_time": "2023-07-15T13:50:34.946626",
     "exception": false,
     "start_time": "2023-07-15T13:50:34.915490",
     "status": "completed"
    },
    "tags": []
   },
   "outputs": [
    {
     "data": {
      "text/plain": [
       "(7046,)"
      ]
     },
     "execution_count": 27,
     "metadata": {},
     "output_type": "execute_result"
    }
   ],
   "source": [
    "y_pred = model.predict(x_test)\n",
    "y_pred.shape"
   ]
  },
  {
   "cell_type": "code",
   "execution_count": 28,
   "id": "2c2deded",
   "metadata": {
    "execution": {
     "iopub.execute_input": "2023-07-15T13:50:34.981887Z",
     "iopub.status.busy": "2023-07-15T13:50:34.981170Z",
     "iopub.status.idle": "2023-07-15T13:50:34.987744Z",
     "shell.execute_reply": "2023-07-15T13:50:34.986714Z"
    },
    "papermill": {
     "duration": 0.026937,
     "end_time": "2023-07-15T13:50:34.989973",
     "exception": false,
     "start_time": "2023-07-15T13:50:34.963036",
     "status": "completed"
    },
    "tags": []
   },
   "outputs": [
    {
     "data": {
      "text/plain": [
       "array([1, 1, 5, ..., 5, 2, 3], shape=(7046,))"
      ]
     },
     "execution_count": 28,
     "metadata": {},
     "output_type": "execute_result"
    }
   ],
   "source": [
    "y_pred"
   ]
  },
  {
   "cell_type": "markdown",
   "id": "ae3408f4",
   "metadata": {
    "papermill": {
     "duration": 0.016225,
     "end_time": "2023-07-15T13:50:35.022758",
     "exception": false,
     "start_time": "2023-07-15T13:50:35.006533",
     "status": "completed"
    },
    "tags": []
   },
   "source": [
    "Getting probability of each predicted class"
   ]
  },
  {
   "cell_type": "code",
   "execution_count": 29,
   "id": "bf25cf69",
   "metadata": {
    "execution": {
     "iopub.execute_input": "2023-07-15T13:50:35.058110Z",
     "iopub.status.busy": "2023-07-15T13:50:35.057329Z",
     "iopub.status.idle": "2023-07-15T13:50:35.070013Z",
     "shell.execute_reply": "2023-07-15T13:50:35.068709Z"
    },
    "papermill": {
     "duration": 0.033161,
     "end_time": "2023-07-15T13:50:35.072400",
     "exception": false,
     "start_time": "2023-07-15T13:50:35.039239",
     "status": "completed"
    },
    "tags": []
   },
   "outputs": [
    {
     "data": {
      "text/plain": [
       "array([[7.82182384e-01, 1.63488184e-01, 3.74139474e-02, 1.65518087e-02,\n",
       "        3.63676438e-04],\n",
       "       [3.74659919e-01, 6.94406435e-02, 7.87883362e-02, 3.72192784e-01,\n",
       "        1.04918318e-01],\n",
       "       [4.61718254e-02, 1.47323604e-01, 1.09233446e-01, 2.88690279e-01,\n",
       "        4.08580845e-01],\n",
       "       ...,\n",
       "       [6.67388724e-02, 1.98214997e-01, 1.51704283e-01, 2.80428047e-01,\n",
       "        3.02913801e-01],\n",
       "       [7.37276589e-03, 9.91459241e-01, 1.14358937e-03, 2.41622343e-05,\n",
       "        2.41460534e-07],\n",
       "       [2.07140578e-01, 8.42145166e-02, 6.43688717e-01, 6.47944624e-02,\n",
       "        1.61725966e-04]], shape=(7046, 5))"
      ]
     },
     "execution_count": 29,
     "metadata": {},
     "output_type": "execute_result"
    }
   ],
   "source": [
    "model.predict_proba(x_test)"
   ]
  },
  {
   "cell_type": "markdown",
   "id": "35339fcf",
   "metadata": {
    "papermill": {
     "duration": 0.016388,
     "end_time": "2023-07-15T13:50:35.105589",
     "exception": false,
     "start_time": "2023-07-15T13:50:35.089201",
     "status": "completed"
    },
    "tags": []
   },
   "source": [
    "### Model evaluation"
   ]
  },
  {
   "cell_type": "code",
   "execution_count": 30,
   "id": "ec9fee04",
   "metadata": {
    "execution": {
     "iopub.execute_input": "2023-07-15T13:50:35.142028Z",
     "iopub.status.busy": "2023-07-15T13:50:35.141620Z",
     "iopub.status.idle": "2023-07-15T13:50:35.160122Z",
     "shell.execute_reply": "2023-07-15T13:50:35.158500Z"
    },
    "papermill": {
     "duration": 0.039944,
     "end_time": "2023-07-15T13:50:35.162479",
     "exception": false,
     "start_time": "2023-07-15T13:50:35.122535",
     "status": "completed"
    },
    "tags": []
   },
   "outputs": [
    {
     "name": "stdout",
     "output_type": "stream",
     "text": [
      "[[  62   44   53   53   41]\n",
      " [ 127   86   72   89   96]\n",
      " [ 276  178  124  117  166]\n",
      " [ 537  301  207  191  287]\n",
      " [1281  785  554  544  775]]\n"
     ]
    }
   ],
   "source": [
    "from sklearn.metrics import confusion_matrix, classification_report\n",
    "\n",
    "print(confusion_matrix(y_test, y_pred))"
   ]
  },
  {
   "cell_type": "code",
   "execution_count": 31,
   "id": "60323838",
   "metadata": {
    "execution": {
     "iopub.execute_input": "2023-07-15T13:50:35.199225Z",
     "iopub.status.busy": "2023-07-15T13:50:35.198787Z",
     "iopub.status.idle": "2023-07-15T13:50:35.229800Z",
     "shell.execute_reply": "2023-07-15T13:50:35.228142Z"
    },
    "papermill": {
     "duration": 0.052447,
     "end_time": "2023-07-15T13:50:35.232485",
     "exception": false,
     "start_time": "2023-07-15T13:50:35.180038",
     "status": "completed"
    },
    "tags": []
   },
   "outputs": [
    {
     "name": "stdout",
     "output_type": "stream",
     "text": [
      "              precision    recall  f1-score   support\n",
      "\n",
      "           1       0.03      0.25      0.05       253\n",
      "           2       0.06      0.18      0.09       470\n",
      "           3       0.12      0.14      0.13       861\n",
      "           4       0.19      0.13      0.15      1523\n",
      "           5       0.57      0.20      0.29      3939\n",
      "\n",
      "    accuracy                           0.18      7046\n",
      "   macro avg       0.19      0.18      0.14      7046\n",
      "weighted avg       0.38      0.18      0.22      7046\n",
      "\n"
     ]
    }
   ],
   "source": [
    "print(classification_report(y_test, y_pred))"
   ]
  },
  {
   "cell_type": "markdown",
   "id": "4ce00531",
   "metadata": {
    "papermill": {
     "duration": 0.016502,
     "end_time": "2023-07-15T13:50:35.266045",
     "exception": false,
     "start_time": "2023-07-15T13:50:35.249543",
     "status": "completed"
    },
    "tags": []
   },
   "source": [
    "### Recategorizing ratings as Poor (0) and Good (1)"
   ]
  },
  {
   "cell_type": "code",
   "execution_count": 32,
   "id": "0b932ab1",
   "metadata": {
    "execution": {
     "iopub.execute_input": "2023-07-15T13:50:35.302199Z",
     "iopub.status.busy": "2023-07-15T13:50:35.301304Z",
     "iopub.status.idle": "2023-07-15T13:50:35.311774Z",
     "shell.execute_reply": "2023-07-15T13:50:35.310622Z"
    },
    "papermill": {
     "duration": 0.031261,
     "end_time": "2023-07-15T13:50:35.314182",
     "exception": false,
     "start_time": "2023-07-15T13:50:35.282921",
     "status": "completed"
    },
    "tags": []
   },
   "outputs": [
    {
     "data": {
      "text/plain": [
       "Rating\n",
       "5    13131\n",
       "4     5077\n",
       "3     2871\n",
       "2     1565\n",
       "1      842\n",
       "Name: count, dtype: int64"
      ]
     },
     "execution_count": 32,
     "metadata": {},
     "output_type": "execute_result"
    }
   ],
   "source": [
    "df[\"Rating\"].value_counts()"
   ]
  },
  {
   "cell_type": "markdown",
   "id": "32d5e639",
   "metadata": {
    "papermill": {
     "duration": 0.016865,
     "end_time": "2023-07-15T13:50:35.348659",
     "exception": false,
     "start_time": "2023-07-15T13:50:35.331794",
     "status": "completed"
    },
    "tags": []
   },
   "source": [
    "re-rating 1,2,3 as 0 and 4,5 as 1"
   ]
  },
  {
   "cell_type": "code",
   "execution_count": 33,
   "id": "5f3ab7ac",
   "metadata": {
    "execution": {
     "iopub.execute_input": "2023-07-15T13:50:35.384736Z",
     "iopub.status.busy": "2023-07-15T13:50:35.384352Z",
     "iopub.status.idle": "2023-07-15T13:50:35.393374Z",
     "shell.execute_reply": "2023-07-15T13:50:35.392317Z"
    },
    "papermill": {
     "duration": 0.030163,
     "end_time": "2023-07-15T13:50:35.395965",
     "exception": false,
     "start_time": "2023-07-15T13:50:35.365802",
     "status": "completed"
    },
    "tags": []
   },
   "outputs": [],
   "source": [
    "df.replace({'Rating': { 1:0, 2:0, 3:0, 4:1, 5:1 }}, inplace=True)\n",
    "y = df['Rating']\n",
    "x = df['Review']"
   ]
  },
  {
   "cell_type": "markdown",
   "id": "1bb91fb5",
   "metadata": {
    "papermill": {
     "duration": 0.016978,
     "end_time": "2023-07-15T13:50:35.431007",
     "exception": false,
     "start_time": "2023-07-15T13:50:35.414029",
     "status": "completed"
    },
    "tags": []
   },
   "source": [
    "### Train Test Split"
   ]
  },
  {
   "cell_type": "code",
   "execution_count": 34,
   "id": "ab65a9b8",
   "metadata": {
    "execution": {
     "iopub.execute_input": "2023-07-15T13:50:35.467035Z",
     "iopub.status.busy": "2023-07-15T13:50:35.466649Z",
     "iopub.status.idle": "2023-07-15T13:50:35.489138Z",
     "shell.execute_reply": "2023-07-15T13:50:35.488030Z"
    },
    "papermill": {
     "duration": 0.043098,
     "end_time": "2023-07-15T13:50:35.491335",
     "exception": false,
     "start_time": "2023-07-15T13:50:35.448237",
     "status": "completed"
    },
    "tags": []
   },
   "outputs": [
    {
     "data": {
      "text/plain": [
       "((16440,), (7046,), (16440,), (7046,))"
      ]
     },
     "execution_count": 34,
     "metadata": {},
     "output_type": "execute_result"
    }
   ],
   "source": [
    "from sklearn.model_selection import train_test_split\n",
    "\n",
    "x_train, x_test, y_train, y_test = train_test_split(x, y, train_size=0.7, stratify=y, random_state=2529)\n",
    "x_train.shape, x_test.shape, y_train.shape, y_test.shape"
   ]
  },
  {
   "cell_type": "markdown",
   "id": "edda4ff5",
   "metadata": {
    "papermill": {
     "duration": 0.017021,
     "end_time": "2023-07-15T13:50:35.525558",
     "exception": false,
     "start_time": "2023-07-15T13:50:35.508537",
     "status": "completed"
    },
    "tags": []
   },
   "source": [
    "### Getting Tokens from Feature Text"
   ]
  },
  {
   "cell_type": "code",
   "execution_count": 35,
   "id": "b6ef6f2e",
   "metadata": {
    "execution": {
     "iopub.execute_input": "2023-07-15T13:50:35.561760Z",
     "iopub.status.busy": "2023-07-15T13:50:35.561326Z",
     "iopub.status.idle": "2023-07-15T13:50:41.339629Z",
     "shell.execute_reply": "2023-07-15T13:50:41.338747Z"
    },
    "papermill": {
     "duration": 5.799546,
     "end_time": "2023-07-15T13:50:41.342333",
     "exception": false,
     "start_time": "2023-07-15T13:50:35.542787",
     "status": "completed"
    },
    "tags": []
   },
   "outputs": [],
   "source": [
    "from sklearn.feature_extraction.text import CountVectorizer\n",
    "\n",
    "cv = CountVectorizer(lowercase=True, analyzer='word', ngram_range=(2, 3), stop_words='english', max_features=50000)\n",
    "x_train = cv.fit_transform(x_train)\n",
    "x_test = cv.fit_transform(x_test)"
   ]
  },
  {
   "cell_type": "markdown",
   "id": "8ffe60fa",
   "metadata": {
    "papermill": {
     "duration": 0.017204,
     "end_time": "2023-07-15T13:50:41.377164",
     "exception": false,
     "start_time": "2023-07-15T13:50:41.359960",
     "status": "completed"
    },
    "tags": []
   },
   "source": [
    "### Model re-training"
   ]
  },
  {
   "cell_type": "code",
   "execution_count": 36,
   "id": "c48c0ddd",
   "metadata": {
    "execution": {
     "iopub.execute_input": "2023-07-15T13:50:41.414123Z",
     "iopub.status.busy": "2023-07-15T13:50:41.413416Z",
     "iopub.status.idle": "2023-07-15T13:50:41.430237Z",
     "shell.execute_reply": "2023-07-15T13:50:41.429057Z"
    },
    "papermill": {
     "duration": 0.038394,
     "end_time": "2023-07-15T13:50:41.432881",
     "exception": false,
     "start_time": "2023-07-15T13:50:41.394487",
     "status": "completed"
    },
    "tags": []
   },
   "outputs": [
    {
     "data": {
      "text/html": [
       "<style>#sk-container-id-2 {\n",
       "  /* Definition of color scheme common for light and dark mode */\n",
       "  --sklearn-color-text: #000;\n",
       "  --sklearn-color-text-muted: #666;\n",
       "  --sklearn-color-line: gray;\n",
       "  /* Definition of color scheme for unfitted estimators */\n",
       "  --sklearn-color-unfitted-level-0: #fff5e6;\n",
       "  --sklearn-color-unfitted-level-1: #f6e4d2;\n",
       "  --sklearn-color-unfitted-level-2: #ffe0b3;\n",
       "  --sklearn-color-unfitted-level-3: chocolate;\n",
       "  /* Definition of color scheme for fitted estimators */\n",
       "  --sklearn-color-fitted-level-0: #f0f8ff;\n",
       "  --sklearn-color-fitted-level-1: #d4ebff;\n",
       "  --sklearn-color-fitted-level-2: #b3dbfd;\n",
       "  --sklearn-color-fitted-level-3: cornflowerblue;\n",
       "\n",
       "  /* Specific color for light theme */\n",
       "  --sklearn-color-text-on-default-background: var(--sg-text-color, var(--theme-code-foreground, var(--jp-content-font-color1, black)));\n",
       "  --sklearn-color-background: var(--sg-background-color, var(--theme-background, var(--jp-layout-color0, white)));\n",
       "  --sklearn-color-border-box: var(--sg-text-color, var(--theme-code-foreground, var(--jp-content-font-color1, black)));\n",
       "  --sklearn-color-icon: #696969;\n",
       "\n",
       "  @media (prefers-color-scheme: dark) {\n",
       "    /* Redefinition of color scheme for dark theme */\n",
       "    --sklearn-color-text-on-default-background: var(--sg-text-color, var(--theme-code-foreground, var(--jp-content-font-color1, white)));\n",
       "    --sklearn-color-background: var(--sg-background-color, var(--theme-background, var(--jp-layout-color0, #111)));\n",
       "    --sklearn-color-border-box: var(--sg-text-color, var(--theme-code-foreground, var(--jp-content-font-color1, white)));\n",
       "    --sklearn-color-icon: #878787;\n",
       "  }\n",
       "}\n",
       "\n",
       "#sk-container-id-2 {\n",
       "  color: var(--sklearn-color-text);\n",
       "}\n",
       "\n",
       "#sk-container-id-2 pre {\n",
       "  padding: 0;\n",
       "}\n",
       "\n",
       "#sk-container-id-2 input.sk-hidden--visually {\n",
       "  border: 0;\n",
       "  clip: rect(1px 1px 1px 1px);\n",
       "  clip: rect(1px, 1px, 1px, 1px);\n",
       "  height: 1px;\n",
       "  margin: -1px;\n",
       "  overflow: hidden;\n",
       "  padding: 0;\n",
       "  position: absolute;\n",
       "  width: 1px;\n",
       "}\n",
       "\n",
       "#sk-container-id-2 div.sk-dashed-wrapped {\n",
       "  border: 1px dashed var(--sklearn-color-line);\n",
       "  margin: 0 0.4em 0.5em 0.4em;\n",
       "  box-sizing: border-box;\n",
       "  padding-bottom: 0.4em;\n",
       "  background-color: var(--sklearn-color-background);\n",
       "}\n",
       "\n",
       "#sk-container-id-2 div.sk-container {\n",
       "  /* jupyter's `normalize.less` sets `[hidden] { display: none; }`\n",
       "     but bootstrap.min.css set `[hidden] { display: none !important; }`\n",
       "     so we also need the `!important` here to be able to override the\n",
       "     default hidden behavior on the sphinx rendered scikit-learn.org.\n",
       "     See: https://github.com/scikit-learn/scikit-learn/issues/21755 */\n",
       "  display: inline-block !important;\n",
       "  position: relative;\n",
       "}\n",
       "\n",
       "#sk-container-id-2 div.sk-text-repr-fallback {\n",
       "  display: none;\n",
       "}\n",
       "\n",
       "div.sk-parallel-item,\n",
       "div.sk-serial,\n",
       "div.sk-item {\n",
       "  /* draw centered vertical line to link estimators */\n",
       "  background-image: linear-gradient(var(--sklearn-color-text-on-default-background), var(--sklearn-color-text-on-default-background));\n",
       "  background-size: 2px 100%;\n",
       "  background-repeat: no-repeat;\n",
       "  background-position: center center;\n",
       "}\n",
       "\n",
       "/* Parallel-specific style estimator block */\n",
       "\n",
       "#sk-container-id-2 div.sk-parallel-item::after {\n",
       "  content: \"\";\n",
       "  width: 100%;\n",
       "  border-bottom: 2px solid var(--sklearn-color-text-on-default-background);\n",
       "  flex-grow: 1;\n",
       "}\n",
       "\n",
       "#sk-container-id-2 div.sk-parallel {\n",
       "  display: flex;\n",
       "  align-items: stretch;\n",
       "  justify-content: center;\n",
       "  background-color: var(--sklearn-color-background);\n",
       "  position: relative;\n",
       "}\n",
       "\n",
       "#sk-container-id-2 div.sk-parallel-item {\n",
       "  display: flex;\n",
       "  flex-direction: column;\n",
       "}\n",
       "\n",
       "#sk-container-id-2 div.sk-parallel-item:first-child::after {\n",
       "  align-self: flex-end;\n",
       "  width: 50%;\n",
       "}\n",
       "\n",
       "#sk-container-id-2 div.sk-parallel-item:last-child::after {\n",
       "  align-self: flex-start;\n",
       "  width: 50%;\n",
       "}\n",
       "\n",
       "#sk-container-id-2 div.sk-parallel-item:only-child::after {\n",
       "  width: 0;\n",
       "}\n",
       "\n",
       "/* Serial-specific style estimator block */\n",
       "\n",
       "#sk-container-id-2 div.sk-serial {\n",
       "  display: flex;\n",
       "  flex-direction: column;\n",
       "  align-items: center;\n",
       "  background-color: var(--sklearn-color-background);\n",
       "  padding-right: 1em;\n",
       "  padding-left: 1em;\n",
       "}\n",
       "\n",
       "\n",
       "/* Toggleable style: style used for estimator/Pipeline/ColumnTransformer box that is\n",
       "clickable and can be expanded/collapsed.\n",
       "- Pipeline and ColumnTransformer use this feature and define the default style\n",
       "- Estimators will overwrite some part of the style using the `sk-estimator` class\n",
       "*/\n",
       "\n",
       "/* Pipeline and ColumnTransformer style (default) */\n",
       "\n",
       "#sk-container-id-2 div.sk-toggleable {\n",
       "  /* Default theme specific background. It is overwritten whether we have a\n",
       "  specific estimator or a Pipeline/ColumnTransformer */\n",
       "  background-color: var(--sklearn-color-background);\n",
       "}\n",
       "\n",
       "/* Toggleable label */\n",
       "#sk-container-id-2 label.sk-toggleable__label {\n",
       "  cursor: pointer;\n",
       "  display: flex;\n",
       "  width: 100%;\n",
       "  margin-bottom: 0;\n",
       "  padding: 0.5em;\n",
       "  box-sizing: border-box;\n",
       "  text-align: center;\n",
       "  align-items: start;\n",
       "  justify-content: space-between;\n",
       "  gap: 0.5em;\n",
       "}\n",
       "\n",
       "#sk-container-id-2 label.sk-toggleable__label .caption {\n",
       "  font-size: 0.6rem;\n",
       "  font-weight: lighter;\n",
       "  color: var(--sklearn-color-text-muted);\n",
       "}\n",
       "\n",
       "#sk-container-id-2 label.sk-toggleable__label-arrow:before {\n",
       "  /* Arrow on the left of the label */\n",
       "  content: \"▸\";\n",
       "  float: left;\n",
       "  margin-right: 0.25em;\n",
       "  color: var(--sklearn-color-icon);\n",
       "}\n",
       "\n",
       "#sk-container-id-2 label.sk-toggleable__label-arrow:hover:before {\n",
       "  color: var(--sklearn-color-text);\n",
       "}\n",
       "\n",
       "/* Toggleable content - dropdown */\n",
       "\n",
       "#sk-container-id-2 div.sk-toggleable__content {\n",
       "  max-height: 0;\n",
       "  max-width: 0;\n",
       "  overflow: hidden;\n",
       "  text-align: left;\n",
       "  /* unfitted */\n",
       "  background-color: var(--sklearn-color-unfitted-level-0);\n",
       "}\n",
       "\n",
       "#sk-container-id-2 div.sk-toggleable__content.fitted {\n",
       "  /* fitted */\n",
       "  background-color: var(--sklearn-color-fitted-level-0);\n",
       "}\n",
       "\n",
       "#sk-container-id-2 div.sk-toggleable__content pre {\n",
       "  margin: 0.2em;\n",
       "  border-radius: 0.25em;\n",
       "  color: var(--sklearn-color-text);\n",
       "  /* unfitted */\n",
       "  background-color: var(--sklearn-color-unfitted-level-0);\n",
       "}\n",
       "\n",
       "#sk-container-id-2 div.sk-toggleable__content.fitted pre {\n",
       "  /* unfitted */\n",
       "  background-color: var(--sklearn-color-fitted-level-0);\n",
       "}\n",
       "\n",
       "#sk-container-id-2 input.sk-toggleable__control:checked~div.sk-toggleable__content {\n",
       "  /* Expand drop-down */\n",
       "  max-height: 200px;\n",
       "  max-width: 100%;\n",
       "  overflow: auto;\n",
       "}\n",
       "\n",
       "#sk-container-id-2 input.sk-toggleable__control:checked~label.sk-toggleable__label-arrow:before {\n",
       "  content: \"▾\";\n",
       "}\n",
       "\n",
       "/* Pipeline/ColumnTransformer-specific style */\n",
       "\n",
       "#sk-container-id-2 div.sk-label input.sk-toggleable__control:checked~label.sk-toggleable__label {\n",
       "  color: var(--sklearn-color-text);\n",
       "  background-color: var(--sklearn-color-unfitted-level-2);\n",
       "}\n",
       "\n",
       "#sk-container-id-2 div.sk-label.fitted input.sk-toggleable__control:checked~label.sk-toggleable__label {\n",
       "  background-color: var(--sklearn-color-fitted-level-2);\n",
       "}\n",
       "\n",
       "/* Estimator-specific style */\n",
       "\n",
       "/* Colorize estimator box */\n",
       "#sk-container-id-2 div.sk-estimator input.sk-toggleable__control:checked~label.sk-toggleable__label {\n",
       "  /* unfitted */\n",
       "  background-color: var(--sklearn-color-unfitted-level-2);\n",
       "}\n",
       "\n",
       "#sk-container-id-2 div.sk-estimator.fitted input.sk-toggleable__control:checked~label.sk-toggleable__label {\n",
       "  /* fitted */\n",
       "  background-color: var(--sklearn-color-fitted-level-2);\n",
       "}\n",
       "\n",
       "#sk-container-id-2 div.sk-label label.sk-toggleable__label,\n",
       "#sk-container-id-2 div.sk-label label {\n",
       "  /* The background is the default theme color */\n",
       "  color: var(--sklearn-color-text-on-default-background);\n",
       "}\n",
       "\n",
       "/* On hover, darken the color of the background */\n",
       "#sk-container-id-2 div.sk-label:hover label.sk-toggleable__label {\n",
       "  color: var(--sklearn-color-text);\n",
       "  background-color: var(--sklearn-color-unfitted-level-2);\n",
       "}\n",
       "\n",
       "/* Label box, darken color on hover, fitted */\n",
       "#sk-container-id-2 div.sk-label.fitted:hover label.sk-toggleable__label.fitted {\n",
       "  color: var(--sklearn-color-text);\n",
       "  background-color: var(--sklearn-color-fitted-level-2);\n",
       "}\n",
       "\n",
       "/* Estimator label */\n",
       "\n",
       "#sk-container-id-2 div.sk-label label {\n",
       "  font-family: monospace;\n",
       "  font-weight: bold;\n",
       "  display: inline-block;\n",
       "  line-height: 1.2em;\n",
       "}\n",
       "\n",
       "#sk-container-id-2 div.sk-label-container {\n",
       "  text-align: center;\n",
       "}\n",
       "\n",
       "/* Estimator-specific */\n",
       "#sk-container-id-2 div.sk-estimator {\n",
       "  font-family: monospace;\n",
       "  border: 1px dotted var(--sklearn-color-border-box);\n",
       "  border-radius: 0.25em;\n",
       "  box-sizing: border-box;\n",
       "  margin-bottom: 0.5em;\n",
       "  /* unfitted */\n",
       "  background-color: var(--sklearn-color-unfitted-level-0);\n",
       "}\n",
       "\n",
       "#sk-container-id-2 div.sk-estimator.fitted {\n",
       "  /* fitted */\n",
       "  background-color: var(--sklearn-color-fitted-level-0);\n",
       "}\n",
       "\n",
       "/* on hover */\n",
       "#sk-container-id-2 div.sk-estimator:hover {\n",
       "  /* unfitted */\n",
       "  background-color: var(--sklearn-color-unfitted-level-2);\n",
       "}\n",
       "\n",
       "#sk-container-id-2 div.sk-estimator.fitted:hover {\n",
       "  /* fitted */\n",
       "  background-color: var(--sklearn-color-fitted-level-2);\n",
       "}\n",
       "\n",
       "/* Specification for estimator info (e.g. \"i\" and \"?\") */\n",
       "\n",
       "/* Common style for \"i\" and \"?\" */\n",
       "\n",
       ".sk-estimator-doc-link,\n",
       "a:link.sk-estimator-doc-link,\n",
       "a:visited.sk-estimator-doc-link {\n",
       "  float: right;\n",
       "  font-size: smaller;\n",
       "  line-height: 1em;\n",
       "  font-family: monospace;\n",
       "  background-color: var(--sklearn-color-background);\n",
       "  border-radius: 1em;\n",
       "  height: 1em;\n",
       "  width: 1em;\n",
       "  text-decoration: none !important;\n",
       "  margin-left: 0.5em;\n",
       "  text-align: center;\n",
       "  /* unfitted */\n",
       "  border: var(--sklearn-color-unfitted-level-1) 1pt solid;\n",
       "  color: var(--sklearn-color-unfitted-level-1);\n",
       "}\n",
       "\n",
       ".sk-estimator-doc-link.fitted,\n",
       "a:link.sk-estimator-doc-link.fitted,\n",
       "a:visited.sk-estimator-doc-link.fitted {\n",
       "  /* fitted */\n",
       "  border: var(--sklearn-color-fitted-level-1) 1pt solid;\n",
       "  color: var(--sklearn-color-fitted-level-1);\n",
       "}\n",
       "\n",
       "/* On hover */\n",
       "div.sk-estimator:hover .sk-estimator-doc-link:hover,\n",
       ".sk-estimator-doc-link:hover,\n",
       "div.sk-label-container:hover .sk-estimator-doc-link:hover,\n",
       ".sk-estimator-doc-link:hover {\n",
       "  /* unfitted */\n",
       "  background-color: var(--sklearn-color-unfitted-level-3);\n",
       "  color: var(--sklearn-color-background);\n",
       "  text-decoration: none;\n",
       "}\n",
       "\n",
       "div.sk-estimator.fitted:hover .sk-estimator-doc-link.fitted:hover,\n",
       ".sk-estimator-doc-link.fitted:hover,\n",
       "div.sk-label-container:hover .sk-estimator-doc-link.fitted:hover,\n",
       ".sk-estimator-doc-link.fitted:hover {\n",
       "  /* fitted */\n",
       "  background-color: var(--sklearn-color-fitted-level-3);\n",
       "  color: var(--sklearn-color-background);\n",
       "  text-decoration: none;\n",
       "}\n",
       "\n",
       "/* Span, style for the box shown on hovering the info icon */\n",
       ".sk-estimator-doc-link span {\n",
       "  display: none;\n",
       "  z-index: 9999;\n",
       "  position: relative;\n",
       "  font-weight: normal;\n",
       "  right: .2ex;\n",
       "  padding: .5ex;\n",
       "  margin: .5ex;\n",
       "  width: min-content;\n",
       "  min-width: 20ex;\n",
       "  max-width: 50ex;\n",
       "  color: var(--sklearn-color-text);\n",
       "  box-shadow: 2pt 2pt 4pt #999;\n",
       "  /* unfitted */\n",
       "  background: var(--sklearn-color-unfitted-level-0);\n",
       "  border: .5pt solid var(--sklearn-color-unfitted-level-3);\n",
       "}\n",
       "\n",
       ".sk-estimator-doc-link.fitted span {\n",
       "  /* fitted */\n",
       "  background: var(--sklearn-color-fitted-level-0);\n",
       "  border: var(--sklearn-color-fitted-level-3);\n",
       "}\n",
       "\n",
       ".sk-estimator-doc-link:hover span {\n",
       "  display: block;\n",
       "}\n",
       "\n",
       "/* \"?\"-specific style due to the `<a>` HTML tag */\n",
       "\n",
       "#sk-container-id-2 a.estimator_doc_link {\n",
       "  float: right;\n",
       "  font-size: 1rem;\n",
       "  line-height: 1em;\n",
       "  font-family: monospace;\n",
       "  background-color: var(--sklearn-color-background);\n",
       "  border-radius: 1rem;\n",
       "  height: 1rem;\n",
       "  width: 1rem;\n",
       "  text-decoration: none;\n",
       "  /* unfitted */\n",
       "  color: var(--sklearn-color-unfitted-level-1);\n",
       "  border: var(--sklearn-color-unfitted-level-1) 1pt solid;\n",
       "}\n",
       "\n",
       "#sk-container-id-2 a.estimator_doc_link.fitted {\n",
       "  /* fitted */\n",
       "  border: var(--sklearn-color-fitted-level-1) 1pt solid;\n",
       "  color: var(--sklearn-color-fitted-level-1);\n",
       "}\n",
       "\n",
       "/* On hover */\n",
       "#sk-container-id-2 a.estimator_doc_link:hover {\n",
       "  /* unfitted */\n",
       "  background-color: var(--sklearn-color-unfitted-level-3);\n",
       "  color: var(--sklearn-color-background);\n",
       "  text-decoration: none;\n",
       "}\n",
       "\n",
       "#sk-container-id-2 a.estimator_doc_link.fitted:hover {\n",
       "  /* fitted */\n",
       "  background-color: var(--sklearn-color-fitted-level-3);\n",
       "}\n",
       "</style><div id=\"sk-container-id-2\" class=\"sk-top-container\"><div class=\"sk-text-repr-fallback\"><pre>MultinomialNB()</pre><b>In a Jupyter environment, please rerun this cell to show the HTML representation or trust the notebook. <br />On GitHub, the HTML representation is unable to render, please try loading this page with nbviewer.org.</b></div><div class=\"sk-container\" hidden><div class=\"sk-item\"><div class=\"sk-estimator fitted sk-toggleable\"><input class=\"sk-toggleable__control sk-hidden--visually\" id=\"sk-estimator-id-2\" type=\"checkbox\" checked><label for=\"sk-estimator-id-2\" class=\"sk-toggleable__label fitted sk-toggleable__label-arrow\"><div><div>MultinomialNB</div></div><div><a class=\"sk-estimator-doc-link fitted\" rel=\"noreferrer\" target=\"_blank\" href=\"https://scikit-learn.org/1.6/modules/generated/sklearn.naive_bayes.MultinomialNB.html\">?<span>Documentation for MultinomialNB</span></a><span class=\"sk-estimator-doc-link fitted\">i<span>Fitted</span></span></div></label><div class=\"sk-toggleable__content fitted\"><pre>MultinomialNB()</pre></div> </div></div></div></div>"
      ],
      "text/plain": [
       "MultinomialNB()"
      ]
     },
     "execution_count": 36,
     "metadata": {},
     "output_type": "execute_result"
    }
   ],
   "source": [
    "from sklearn.naive_bayes import MultinomialNB\n",
    "\n",
    "model = MultinomialNB()\n",
    "model.fit(x_train, y_train)"
   ]
  },
  {
   "cell_type": "markdown",
   "id": "415b95de",
   "metadata": {
    "papermill": {
     "duration": 0.017321,
     "end_time": "2023-07-15T13:50:41.467791",
     "exception": false,
     "start_time": "2023-07-15T13:50:41.450470",
     "status": "completed"
    },
    "tags": []
   },
   "source": [
    "### Model prediction"
   ]
  },
  {
   "cell_type": "code",
   "execution_count": 37,
   "id": "432a5d81",
   "metadata": {
    "execution": {
     "iopub.execute_input": "2023-07-15T13:50:41.504682Z",
     "iopub.status.busy": "2023-07-15T13:50:41.504275Z",
     "iopub.status.idle": "2023-07-15T13:50:41.512654Z",
     "shell.execute_reply": "2023-07-15T13:50:41.511792Z"
    },
    "papermill": {
     "duration": 0.029455,
     "end_time": "2023-07-15T13:50:41.514826",
     "exception": false,
     "start_time": "2023-07-15T13:50:41.485371",
     "status": "completed"
    },
    "tags": []
   },
   "outputs": [
    {
     "data": {
      "text/plain": [
       "(7046,)"
      ]
     },
     "execution_count": 37,
     "metadata": {},
     "output_type": "execute_result"
    }
   ],
   "source": [
    "y_pred = model.predict(x_test)\n",
    "y_pred.shape"
   ]
  },
  {
   "cell_type": "code",
   "execution_count": 38,
   "id": "64a9d210",
   "metadata": {
    "execution": {
     "iopub.execute_input": "2023-07-15T13:50:41.552320Z",
     "iopub.status.busy": "2023-07-15T13:50:41.551927Z",
     "iopub.status.idle": "2023-07-15T13:50:41.558727Z",
     "shell.execute_reply": "2023-07-15T13:50:41.557354Z"
    },
    "papermill": {
     "duration": 0.028762,
     "end_time": "2023-07-15T13:50:41.561374",
     "exception": false,
     "start_time": "2023-07-15T13:50:41.532612",
     "status": "completed"
    },
    "tags": []
   },
   "outputs": [
    {
     "data": {
      "text/plain": [
       "array([0, 1, 1, ..., 1, 1, 0], shape=(7046,))"
      ]
     },
     "execution_count": 38,
     "metadata": {},
     "output_type": "execute_result"
    }
   ],
   "source": [
    "y_pred"
   ]
  },
  {
   "cell_type": "markdown",
   "id": "23a14827",
   "metadata": {
    "papermill": {
     "duration": 0.017721,
     "end_time": "2023-07-15T13:50:41.597571",
     "exception": false,
     "start_time": "2023-07-15T13:50:41.579850",
     "status": "completed"
    },
    "tags": []
   },
   "source": [
    "### Model evaluation"
   ]
  },
  {
   "cell_type": "code",
   "execution_count": 39,
   "id": "67e70ef6",
   "metadata": {
    "execution": {
     "iopub.execute_input": "2023-07-15T13:50:41.635482Z",
     "iopub.status.busy": "2023-07-15T13:50:41.635047Z",
     "iopub.status.idle": "2023-07-15T13:50:41.651573Z",
     "shell.execute_reply": "2023-07-15T13:50:41.650365Z"
    },
    "papermill": {
     "duration": 0.038255,
     "end_time": "2023-07-15T13:50:41.653804",
     "exception": false,
     "start_time": "2023-07-15T13:50:41.615549",
     "status": "completed"
    },
    "tags": []
   },
   "outputs": [
    {
     "name": "stdout",
     "output_type": "stream",
     "text": [
      "[[ 785  798]\n",
      " [2873 2590]]\n"
     ]
    }
   ],
   "source": [
    "from sklearn.metrics import confusion_matrix, classification_report\n",
    "\n",
    "print(confusion_matrix(y_test, y_pred))"
   ]
  },
  {
   "cell_type": "code",
   "execution_count": 40,
   "id": "39714078",
   "metadata": {
    "execution": {
     "iopub.execute_input": "2023-07-15T13:50:41.692309Z",
     "iopub.status.busy": "2023-07-15T13:50:41.691642Z",
     "iopub.status.idle": "2023-07-15T13:50:41.721897Z",
     "shell.execute_reply": "2023-07-15T13:50:41.720711Z"
    },
    "papermill": {
     "duration": 0.052189,
     "end_time": "2023-07-15T13:50:41.724731",
     "exception": false,
     "start_time": "2023-07-15T13:50:41.672542",
     "status": "completed"
    },
    "tags": []
   },
   "outputs": [
    {
     "name": "stdout",
     "output_type": "stream",
     "text": [
      "              precision    recall  f1-score   support\n",
      "\n",
      "           0       0.21      0.50      0.30      1583\n",
      "           1       0.76      0.47      0.59      5463\n",
      "\n",
      "    accuracy                           0.48      7046\n",
      "   macro avg       0.49      0.48      0.44      7046\n",
      "weighted avg       0.64      0.48      0.52      7046\n",
      "\n"
     ]
    }
   ],
   "source": [
    "print(classification_report(y_test, y_pred))"
   ]
  },
  {
   "cell_type": "markdown",
   "id": "5dc0ac28",
   "metadata": {
    "papermill": {
     "duration": 0.018041,
     "end_time": "2023-07-15T13:50:41.761409",
     "exception": false,
     "start_time": "2023-07-15T13:50:41.743368",
     "status": "completed"
    },
    "tags": []
   },
   "source": [
    "### Explanation\n",
    "\n",
    "This project is focused on building a prediction model. At first, the all required libraries and a test dataset are imported. The dataset was evaluated and pre processed to prepare for it for processing, then a portion of it was kept for testing and the rest was used to train the model. The model was used to get some prediction dataset. Finnaly, prediction accuracy was checked against the test dataset, some adjusment were made and the model was re-trained for better accuracy."
   ]
  }
 ],
 "metadata": {
  "kernelspec": {
   "display_name": "Python 3",
   "language": "python",
   "name": "python3"
  },
  "language_info": {
   "codemirror_mode": {
    "name": "ipython",
    "version": 3
   },
   "file_extension": ".py",
   "mimetype": "text/x-python",
   "name": "python",
   "nbconvert_exporter": "python",
   "pygments_lexer": "ipython3",
   "version": "3.13.0"
  },
  "papermill": {
   "default_parameters": {},
   "duration": 29.993582,
   "end_time": "2023-07-15T13:50:42.912601",
   "environment_variables": {},
   "exception": null,
   "input_path": "__notebook__.ipynb",
   "output_path": "__notebook__.ipynb",
   "parameters": {},
   "start_time": "2023-07-15T13:50:12.919019",
   "version": "2.4.0"
  }
 },
 "nbformat": 4,
 "nbformat_minor": 5
}

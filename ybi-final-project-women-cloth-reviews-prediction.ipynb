{
 "cells": [
  {
   "cell_type": "markdown",
   "id": "8dc90b3a",
   "metadata": {
    "papermill": {
     "duration": 0.014855,
     "end_time": "2023-07-15T13:50:24.124693",
     "exception": false,
     "start_time": "2023-07-15T13:50:24.109838",
     "status": "completed"
    },
    "tags": []
   },
   "source": [
    "# Women Cloth Reviews Prediction with Multi Nomial Naïve Bayes\n",
    "---\n",
    "Multinomial Naïve Bayes algorithm is a probabilistic learning method that is mostly used in Natural Language Processing. It is also suitable for text classification with discrete feature. In this project it will be used to build a women cloth review prediction model.\n",
    "\n",
    "Data Source: [YBIFoundation/ProjectHub-MachineLearning Women Clothing Commerce Review dataset](https://raw.githubusercontent.com/YBIFoundation/ProjectHub-MachineLearning/main/Women%20Clothing%20E-Commerce%20Review.csv)"
   ]
  },
  {
   "cell_type": "markdown",
   "id": "5049ee59",
   "metadata": {
    "papermill": {
     "duration": 0.013533,
     "end_time": "2023-07-15T13:50:24.152245",
     "exception": false,
     "start_time": "2023-07-15T13:50:24.138712",
     "status": "completed"
    },
    "tags": []
   },
   "source": [
    "### Importing Libraries"
   ]
  },
  {
   "cell_type": "code",
   "execution_count": 1,
   "id": "25448754",
   "metadata": {
    "_kg_hide-input": false,
    "_kg_hide-output": true,
    "execution": {
     "iopub.execute_input": "2023-07-15T13:50:24.184604Z",
     "iopub.status.busy": "2023-07-15T13:50:24.184213Z",
     "iopub.status.idle": "2023-07-15T13:50:25.631466Z",
     "shell.execute_reply": "2023-07-15T13:50:25.630301Z"
    },
    "papermill": {
     "duration": 1.465743,
     "end_time": "2023-07-15T13:50:25.634038",
     "exception": false,
     "start_time": "2023-07-15T13:50:24.168295",
     "status": "completed"
    },
    "tags": []
   },
   "outputs": [
    {
     "name": "stderr",
     "output_type": "stream",
     "text": [
      "/opt/conda/lib/python3.10/site-packages/scipy/__init__.py:146: UserWarning: A NumPy version >=1.16.5 and <1.23.0 is required for this version of SciPy (detected version 1.23.5\n",
      "  warnings.warn(f\"A NumPy version >={np_minversion} and <{np_maxversion}\"\n"
     ]
    }
   ],
   "source": [
    "import pandas as pd\n",
    "import numpy as np\n",
    "import matplotlib.pyplot as plt\n",
    "import seaborn as sns"
   ]
  },
  {
   "cell_type": "markdown",
   "id": "335af6d5",
   "metadata": {
    "papermill": {
     "duration": 0.013448,
     "end_time": "2023-07-15T13:50:25.661800",
     "exception": false,
     "start_time": "2023-07-15T13:50:25.648352",
     "status": "completed"
    },
    "tags": []
   },
   "source": [
    "### Importing Dataset"
   ]
  },
  {
   "cell_type": "code",
   "execution_count": 2,
   "id": "5a14ad6c",
   "metadata": {
    "execution": {
     "iopub.execute_input": "2023-07-15T13:50:25.691965Z",
     "iopub.status.busy": "2023-07-15T13:50:25.691195Z",
     "iopub.status.idle": "2023-07-15T13:50:26.767639Z",
     "shell.execute_reply": "2023-07-15T13:50:26.766727Z"
    },
    "papermill": {
     "duration": 1.094704,
     "end_time": "2023-07-15T13:50:26.770201",
     "exception": false,
     "start_time": "2023-07-15T13:50:25.675497",
     "status": "completed"
    },
    "tags": []
   },
   "outputs": [],
   "source": [
    "df = pd.read_csv(\"https://raw.githubusercontent.com/YBIFoundation/ProjectHub-MachineLearning/main/Women%20Clothing%20E-Commerce%20Review.csv\")"
   ]
  },
  {
   "cell_type": "markdown",
   "id": "0cff90a5",
   "metadata": {
    "papermill": {
     "duration": 0.013565,
     "end_time": "2023-07-15T13:50:26.799210",
     "exception": false,
     "start_time": "2023-07-15T13:50:26.785645",
     "status": "completed"
    },
    "tags": []
   },
   "source": [
    "### Data visualization\n",
    "\n",
    "Samples of the data is visualized to better understand how it is structured."
   ]
  },
  {
   "cell_type": "code",
   "execution_count": 3,
   "id": "6e0e2c4d",
   "metadata": {
    "execution": {
     "iopub.execute_input": "2023-07-15T13:50:26.828987Z",
     "iopub.status.busy": "2023-07-15T13:50:26.828313Z",
     "iopub.status.idle": "2023-07-15T13:50:26.851380Z",
     "shell.execute_reply": "2023-07-15T13:50:26.850583Z"
    },
    "papermill": {
     "duration": 0.040466,
     "end_time": "2023-07-15T13:50:26.853516",
     "exception": false,
     "start_time": "2023-07-15T13:50:26.813050",
     "status": "completed"
    },
    "tags": []
   },
   "outputs": [
    {
     "data": {
      "text/html": [
       "<div>\n",
       "<style scoped>\n",
       "    .dataframe tbody tr th:only-of-type {\n",
       "        vertical-align: middle;\n",
       "    }\n",
       "\n",
       "    .dataframe tbody tr th {\n",
       "        vertical-align: top;\n",
       "    }\n",
       "\n",
       "    .dataframe thead th {\n",
       "        text-align: right;\n",
       "    }\n",
       "</style>\n",
       "<table border=\"1\" class=\"dataframe\">\n",
       "  <thead>\n",
       "    <tr style=\"text-align: right;\">\n",
       "      <th></th>\n",
       "      <th>Clothing ID</th>\n",
       "      <th>Age</th>\n",
       "      <th>Title</th>\n",
       "      <th>Review</th>\n",
       "      <th>Rating</th>\n",
       "      <th>Recommended</th>\n",
       "      <th>Positive Feedback</th>\n",
       "      <th>Division</th>\n",
       "      <th>Department</th>\n",
       "      <th>Category</th>\n",
       "    </tr>\n",
       "  </thead>\n",
       "  <tbody>\n",
       "    <tr>\n",
       "      <th>0</th>\n",
       "      <td>767</td>\n",
       "      <td>33</td>\n",
       "      <td>NaN</td>\n",
       "      <td>Absolutely wonderful - silky and sexy and comf...</td>\n",
       "      <td>4</td>\n",
       "      <td>1</td>\n",
       "      <td>0</td>\n",
       "      <td>Initmates</td>\n",
       "      <td>Intimate</td>\n",
       "      <td>Intimates</td>\n",
       "    </tr>\n",
       "    <tr>\n",
       "      <th>1</th>\n",
       "      <td>1080</td>\n",
       "      <td>34</td>\n",
       "      <td>NaN</td>\n",
       "      <td>Love this dress!  it's sooo pretty.  i happene...</td>\n",
       "      <td>5</td>\n",
       "      <td>1</td>\n",
       "      <td>4</td>\n",
       "      <td>General</td>\n",
       "      <td>Dresses</td>\n",
       "      <td>Dresses</td>\n",
       "    </tr>\n",
       "    <tr>\n",
       "      <th>2</th>\n",
       "      <td>1077</td>\n",
       "      <td>60</td>\n",
       "      <td>Some major design flaws</td>\n",
       "      <td>I had such high hopes for this dress and reall...</td>\n",
       "      <td>3</td>\n",
       "      <td>0</td>\n",
       "      <td>0</td>\n",
       "      <td>General</td>\n",
       "      <td>Dresses</td>\n",
       "      <td>Dresses</td>\n",
       "    </tr>\n",
       "    <tr>\n",
       "      <th>3</th>\n",
       "      <td>1049</td>\n",
       "      <td>50</td>\n",
       "      <td>My favorite buy!</td>\n",
       "      <td>I love, love, love this jumpsuit. it's fun, fl...</td>\n",
       "      <td>5</td>\n",
       "      <td>1</td>\n",
       "      <td>0</td>\n",
       "      <td>General Petite</td>\n",
       "      <td>Bottoms</td>\n",
       "      <td>Pants</td>\n",
       "    </tr>\n",
       "    <tr>\n",
       "      <th>4</th>\n",
       "      <td>847</td>\n",
       "      <td>47</td>\n",
       "      <td>Flattering shirt</td>\n",
       "      <td>This shirt is very flattering to all due to th...</td>\n",
       "      <td>5</td>\n",
       "      <td>1</td>\n",
       "      <td>6</td>\n",
       "      <td>General</td>\n",
       "      <td>Tops</td>\n",
       "      <td>Blouses</td>\n",
       "    </tr>\n",
       "  </tbody>\n",
       "</table>\n",
       "</div>"
      ],
      "text/plain": [
       "   Clothing ID  Age                    Title  \\\n",
       "0          767   33                      NaN   \n",
       "1         1080   34                      NaN   \n",
       "2         1077   60  Some major design flaws   \n",
       "3         1049   50         My favorite buy!   \n",
       "4          847   47         Flattering shirt   \n",
       "\n",
       "                                              Review  Rating  Recommended  \\\n",
       "0  Absolutely wonderful - silky and sexy and comf...       4            1   \n",
       "1  Love this dress!  it's sooo pretty.  i happene...       5            1   \n",
       "2  I had such high hopes for this dress and reall...       3            0   \n",
       "3  I love, love, love this jumpsuit. it's fun, fl...       5            1   \n",
       "4  This shirt is very flattering to all due to th...       5            1   \n",
       "\n",
       "   Positive Feedback        Division Department   Category  \n",
       "0                  0       Initmates   Intimate  Intimates  \n",
       "1                  4         General    Dresses    Dresses  \n",
       "2                  0         General    Dresses    Dresses  \n",
       "3                  0  General Petite    Bottoms      Pants  \n",
       "4                  6         General       Tops    Blouses  "
      ]
     },
     "execution_count": 3,
     "metadata": {},
     "output_type": "execute_result"
    }
   ],
   "source": [
    "df.head()"
   ]
  },
  {
   "cell_type": "code",
   "execution_count": 4,
   "id": "6bbd36cb",
   "metadata": {
    "execution": {
     "iopub.execute_input": "2023-07-15T13:50:26.884152Z",
     "iopub.status.busy": "2023-07-15T13:50:26.883473Z",
     "iopub.status.idle": "2023-07-15T13:50:26.948304Z",
     "shell.execute_reply": "2023-07-15T13:50:26.947010Z"
    },
    "papermill": {
     "duration": 0.083003,
     "end_time": "2023-07-15T13:50:26.950839",
     "exception": false,
     "start_time": "2023-07-15T13:50:26.867836",
     "status": "completed"
    },
    "tags": []
   },
   "outputs": [
    {
     "name": "stdout",
     "output_type": "stream",
     "text": [
      "<class 'pandas.core.frame.DataFrame'>\n",
      "RangeIndex: 23486 entries, 0 to 23485\n",
      "Data columns (total 10 columns):\n",
      " #   Column             Non-Null Count  Dtype \n",
      "---  ------             --------------  ----- \n",
      " 0   Clothing ID        23486 non-null  int64 \n",
      " 1   Age                23486 non-null  int64 \n",
      " 2   Title              19676 non-null  object\n",
      " 3   Review             22641 non-null  object\n",
      " 4   Rating             23486 non-null  int64 \n",
      " 5   Recommended        23486 non-null  int64 \n",
      " 6   Positive Feedback  23486 non-null  int64 \n",
      " 7   Division           23472 non-null  object\n",
      " 8   Department         23472 non-null  object\n",
      " 9   Category           23472 non-null  object\n",
      "dtypes: int64(5), object(5)\n",
      "memory usage: 1.8+ MB\n"
     ]
    }
   ],
   "source": [
    "df.info()"
   ]
  },
  {
   "cell_type": "code",
   "execution_count": 5,
   "id": "b7f53ec6",
   "metadata": {
    "execution": {
     "iopub.execute_input": "2023-07-15T13:50:26.981904Z",
     "iopub.status.busy": "2023-07-15T13:50:26.981214Z",
     "iopub.status.idle": "2023-07-15T13:50:26.988013Z",
     "shell.execute_reply": "2023-07-15T13:50:26.987001Z"
    },
    "papermill": {
     "duration": 0.024935,
     "end_time": "2023-07-15T13:50:26.990410",
     "exception": false,
     "start_time": "2023-07-15T13:50:26.965475",
     "status": "completed"
    },
    "tags": []
   },
   "outputs": [
    {
     "data": {
      "text/plain": [
       "(23486, 10)"
      ]
     },
     "execution_count": 5,
     "metadata": {},
     "output_type": "execute_result"
    }
   ],
   "source": [
    "df.shape"
   ]
  },
  {
   "cell_type": "markdown",
   "id": "bf6b5a98",
   "metadata": {
    "papermill": {
     "duration": 0.014187,
     "end_time": "2023-07-15T13:50:27.019332",
     "exception": false,
     "start_time": "2023-07-15T13:50:27.005145",
     "status": "completed"
    },
    "tags": []
   },
   "source": [
    "### Data preprocessing\n",
    "\n",
    "Calling `isna()` method along with the `sum()` method on dataframe `df` to find the Review columns with no review text for further processing."
   ]
  },
  {
   "cell_type": "code",
   "execution_count": 6,
   "id": "9aab0ec9",
   "metadata": {
    "execution": {
     "iopub.execute_input": "2023-07-15T13:50:27.050689Z",
     "iopub.status.busy": "2023-07-15T13:50:27.049902Z",
     "iopub.status.idle": "2023-07-15T13:50:27.096400Z",
     "shell.execute_reply": "2023-07-15T13:50:27.095589Z"
    },
    "papermill": {
     "duration": 0.064695,
     "end_time": "2023-07-15T13:50:27.098609",
     "exception": false,
     "start_time": "2023-07-15T13:50:27.033914",
     "status": "completed"
    },
    "tags": []
   },
   "outputs": [
    {
     "data": {
      "text/plain": [
       "Clothing ID             0\n",
       "Age                     0\n",
       "Title                3810\n",
       "Review                845\n",
       "Rating                  0\n",
       "Recommended             0\n",
       "Positive Feedback       0\n",
       "Division               14\n",
       "Department             14\n",
       "Category               14\n",
       "dtype: int64"
      ]
     },
     "execution_count": 6,
     "metadata": {},
     "output_type": "execute_result"
    }
   ],
   "source": [
    "df.isna().sum()"
   ]
  },
  {
   "cell_type": "markdown",
   "id": "3ced508d",
   "metadata": {
    "papermill": {
     "duration": 0.014299,
     "end_time": "2023-07-15T13:50:27.127578",
     "exception": false,
     "start_time": "2023-07-15T13:50:27.113279",
     "status": "completed"
    },
    "tags": []
   },
   "source": [
    "Filling missing values in the Review column with the value `No review is given`."
   ]
  },
  {
   "cell_type": "code",
   "execution_count": 7,
   "id": "e74d69ce",
   "metadata": {
    "execution": {
     "iopub.execute_input": "2023-07-15T13:50:27.160154Z",
     "iopub.status.busy": "2023-07-15T13:50:27.159108Z",
     "iopub.status.idle": "2023-07-15T13:50:27.221611Z",
     "shell.execute_reply": "2023-07-15T13:50:27.220785Z"
    },
    "papermill": {
     "duration": 0.081072,
     "end_time": "2023-07-15T13:50:27.223824",
     "exception": false,
     "start_time": "2023-07-15T13:50:27.142752",
     "status": "completed"
    },
    "tags": []
   },
   "outputs": [
    {
     "data": {
      "text/plain": [
       "Clothing ID             0\n",
       "Age                     0\n",
       "Title                3810\n",
       "Review                  0\n",
       "Rating                  0\n",
       "Recommended             0\n",
       "Positive Feedback       0\n",
       "Division               14\n",
       "Department             14\n",
       "Category               14\n",
       "dtype: int64"
      ]
     },
     "execution_count": 7,
     "metadata": {},
     "output_type": "execute_result"
    }
   ],
   "source": [
    "df[df['Review']==\"\"] = np.NaN\n",
    "df['Review'].fillna(\"No review is given\", inplace=True)\n",
    "df.isna().sum()"
   ]
  },
  {
   "cell_type": "code",
   "execution_count": 8,
   "id": "5c573093",
   "metadata": {
    "execution": {
     "iopub.execute_input": "2023-07-15T13:50:27.256237Z",
     "iopub.status.busy": "2023-07-15T13:50:27.255523Z",
     "iopub.status.idle": "2023-07-15T13:50:27.263967Z",
     "shell.execute_reply": "2023-07-15T13:50:27.262983Z"
    },
    "papermill": {
     "duration": 0.027704,
     "end_time": "2023-07-15T13:50:27.266278",
     "exception": false,
     "start_time": "2023-07-15T13:50:27.238574",
     "status": "completed"
    },
    "tags": []
   },
   "outputs": [
    {
     "data": {
      "text/plain": [
       "0        Absolutely wonderful - silky and sexy and comf...\n",
       "1        Love this dress!  it's sooo pretty.  i happene...\n",
       "2        I had such high hopes for this dress and reall...\n",
       "3        I love, love, love this jumpsuit. it's fun, fl...\n",
       "4        This shirt is very flattering to all due to th...\n",
       "                               ...                        \n",
       "23481    I was very happy to snag this dress at such a ...\n",
       "23482    It reminds me of maternity clothes. soft, stre...\n",
       "23483    This fit well, but the top was very see throug...\n",
       "23484    I bought this dress for a wedding i have this ...\n",
       "23485    This dress in a lovely platinum is feminine an...\n",
       "Name: Review, Length: 23486, dtype: object"
      ]
     },
     "execution_count": 8,
     "metadata": {},
     "output_type": "execute_result"
    }
   ],
   "source": [
    "df['Review']"
   ]
  },
  {
   "cell_type": "markdown",
   "id": "de083376",
   "metadata": {
    "papermill": {
     "duration": 0.014645,
     "end_time": "2023-07-15T13:50:27.295892",
     "exception": false,
     "start_time": "2023-07-15T13:50:27.281247",
     "status": "completed"
    },
    "tags": []
   },
   "source": [
    "### Defining Target Variable (y) and Feature Variables (X)"
   ]
  },
  {
   "cell_type": "code",
   "execution_count": 9,
   "id": "26a10462",
   "metadata": {
    "execution": {
     "iopub.execute_input": "2023-07-15T13:50:27.328901Z",
     "iopub.status.busy": "2023-07-15T13:50:27.327563Z",
     "iopub.status.idle": "2023-07-15T13:50:27.335577Z",
     "shell.execute_reply": "2023-07-15T13:50:27.334501Z"
    },
    "papermill": {
     "duration": 0.027005,
     "end_time": "2023-07-15T13:50:27.337840",
     "exception": false,
     "start_time": "2023-07-15T13:50:27.310835",
     "status": "completed"
    },
    "tags": []
   },
   "outputs": [
    {
     "data": {
      "text/plain": [
       "Index(['Clothing ID', 'Age', 'Title', 'Review', 'Rating', 'Recommended',\n",
       "       'Positive Feedback', 'Division', 'Department', 'Category'],\n",
       "      dtype='object')"
      ]
     },
     "execution_count": 9,
     "metadata": {},
     "output_type": "execute_result"
    }
   ],
   "source": [
    "df.columns"
   ]
  },
  {
   "cell_type": "code",
   "execution_count": 10,
   "id": "cd7ee691",
   "metadata": {
    "execution": {
     "iopub.execute_input": "2023-07-15T13:50:27.370134Z",
     "iopub.status.busy": "2023-07-15T13:50:27.369707Z",
     "iopub.status.idle": "2023-07-15T13:50:27.380463Z",
     "shell.execute_reply": "2023-07-15T13:50:27.379166Z"
    },
    "papermill": {
     "duration": 0.030112,
     "end_time": "2023-07-15T13:50:27.383231",
     "exception": false,
     "start_time": "2023-07-15T13:50:27.353119",
     "status": "completed"
    },
    "tags": []
   },
   "outputs": [
    {
     "data": {
      "text/plain": [
       "5.0    13131\n",
       "4.0     5077\n",
       "3.0     2871\n",
       "2.0     1565\n",
       "1.0      842\n",
       "Name: Rating, dtype: int64"
      ]
     },
     "execution_count": 10,
     "metadata": {},
     "output_type": "execute_result"
    }
   ],
   "source": [
    "x = df['Review']\n",
    "y = df['Rating']\n",
    "df['Rating'].value_counts()"
   ]
  },
  {
   "cell_type": "markdown",
   "id": "788c3a70",
   "metadata": {
    "papermill": {
     "duration": 0.015203,
     "end_time": "2023-07-15T13:50:27.414446",
     "exception": false,
     "start_time": "2023-07-15T13:50:27.399243",
     "status": "completed"
    },
    "tags": []
   },
   "source": [
    "### Train Test Split"
   ]
  },
  {
   "cell_type": "code",
   "execution_count": 11,
   "id": "0b9c630a",
   "metadata": {
    "execution": {
     "iopub.execute_input": "2023-07-15T13:50:27.446926Z",
     "iopub.status.busy": "2023-07-15T13:50:27.446473Z",
     "iopub.status.idle": "2023-07-15T13:50:27.718018Z",
     "shell.execute_reply": "2023-07-15T13:50:27.716841Z"
    },
    "papermill": {
     "duration": 0.290712,
     "end_time": "2023-07-15T13:50:27.720745",
     "exception": false,
     "start_time": "2023-07-15T13:50:27.430033",
     "status": "completed"
    },
    "tags": []
   },
   "outputs": [
    {
     "data": {
      "text/plain": [
       "((16440,), (7046,), (16440,), (7046,))"
      ]
     },
     "execution_count": 11,
     "metadata": {},
     "output_type": "execute_result"
    }
   ],
   "source": [
    "from sklearn.model_selection import train_test_split\n",
    "\n",
    "x_train, x_test, y_train, y_test = train_test_split(x, y, train_size=0.7, stratify=y, random_state=2529)\n",
    "x_train.shape, x_test.shape, y_train.shape, y_test.shape"
   ]
  },
  {
   "cell_type": "markdown",
   "id": "fea5c053",
   "metadata": {
    "papermill": {
     "duration": 0.015249,
     "end_time": "2023-07-15T13:50:27.751462",
     "exception": false,
     "start_time": "2023-07-15T13:50:27.736213",
     "status": "completed"
    },
    "tags": []
   },
   "source": [
    "### Getting Tokens from Feature Text\n",
    "\n",
    "Using `CountVectorizer` from sci-kit learn"
   ]
  },
  {
   "cell_type": "code",
   "execution_count": 12,
   "id": "dbd806dd",
   "metadata": {
    "execution": {
     "iopub.execute_input": "2023-07-15T13:50:27.785708Z",
     "iopub.status.busy": "2023-07-15T13:50:27.785295Z",
     "iopub.status.idle": "2023-07-15T13:50:31.906226Z",
     "shell.execute_reply": "2023-07-15T13:50:31.905002Z"
    },
    "papermill": {
     "duration": 4.141489,
     "end_time": "2023-07-15T13:50:31.908626",
     "exception": false,
     "start_time": "2023-07-15T13:50:27.767137",
     "status": "completed"
    },
    "tags": []
   },
   "outputs": [
    {
     "data": {
      "text/plain": [
       "array(['00 big', '00 fits', '00 petite', ..., 'zipper zip',\n",
       "       'zippered pockets', 'zippers buttons'], dtype=object)"
      ]
     },
     "execution_count": 12,
     "metadata": {},
     "output_type": "execute_result"
    }
   ],
   "source": [
    "from sklearn.feature_extraction.text import CountVectorizer\n",
    "\n",
    "cv = CountVectorizer(lowercase=True, analyzer='word', ngram_range=(2, 3), stop_words='english', max_features=50000)\n",
    "x_train = cv.fit_transform(x_train)\n",
    "cv.get_feature_names_out()"
   ]
  },
  {
   "cell_type": "code",
   "execution_count": 13,
   "id": "00683c01",
   "metadata": {
    "execution": {
     "iopub.execute_input": "2023-07-15T13:50:31.941776Z",
     "iopub.status.busy": "2023-07-15T13:50:31.941349Z",
     "iopub.status.idle": "2023-07-15T13:50:32.554838Z",
     "shell.execute_reply": "2023-07-15T13:50:32.553682Z"
    },
    "papermill": {
     "duration": 0.633142,
     "end_time": "2023-07-15T13:50:32.557393",
     "exception": false,
     "start_time": "2023-07-15T13:50:31.924251",
     "status": "completed"
    },
    "tags": []
   },
   "outputs": [
    {
     "data": {
      "text/plain": [
       "array([[0, 0, 0, ..., 0, 0, 0],\n",
       "       [0, 0, 0, ..., 0, 0, 0],\n",
       "       [0, 0, 0, ..., 0, 0, 0],\n",
       "       ...,\n",
       "       [0, 0, 0, ..., 0, 0, 0],\n",
       "       [0, 0, 0, ..., 0, 0, 0],\n",
       "       [0, 0, 0, ..., 0, 0, 0]])"
      ]
     },
     "execution_count": 13,
     "metadata": {},
     "output_type": "execute_result"
    }
   ],
   "source": [
    "x_train.toarray()"
   ]
  },
  {
   "cell_type": "code",
   "execution_count": 14,
   "id": "e629d4de",
   "metadata": {
    "execution": {
     "iopub.execute_input": "2023-07-15T13:50:32.591465Z",
     "iopub.status.busy": "2023-07-15T13:50:32.590309Z",
     "iopub.status.idle": "2023-07-15T13:50:34.461938Z",
     "shell.execute_reply": "2023-07-15T13:50:34.460652Z"
    },
    "papermill": {
     "duration": 1.89128,
     "end_time": "2023-07-15T13:50:34.464468",
     "exception": false,
     "start_time": "2023-07-15T13:50:32.573188",
     "status": "completed"
    },
    "tags": []
   },
   "outputs": [
    {
     "data": {
      "text/plain": [
       "array(['00 24', '00 petite', '00 sold', ..., 'zipper split',\n",
       "       'zipper sturdy', 'zippers buttons'], dtype=object)"
      ]
     },
     "execution_count": 14,
     "metadata": {},
     "output_type": "execute_result"
    }
   ],
   "source": [
    "x_test = cv.fit_transform(x_test)\n",
    "cv.get_feature_names_out()"
   ]
  },
  {
   "cell_type": "code",
   "execution_count": 15,
   "id": "a913443d",
   "metadata": {
    "execution": {
     "iopub.execute_input": "2023-07-15T13:50:34.499003Z",
     "iopub.status.busy": "2023-07-15T13:50:34.498615Z",
     "iopub.status.idle": "2023-07-15T13:50:34.756442Z",
     "shell.execute_reply": "2023-07-15T13:50:34.755163Z"
    },
    "papermill": {
     "duration": 0.27848,
     "end_time": "2023-07-15T13:50:34.758855",
     "exception": false,
     "start_time": "2023-07-15T13:50:34.480375",
     "status": "completed"
    },
    "tags": []
   },
   "outputs": [
    {
     "data": {
      "text/plain": [
       "array([[0, 0, 0, ..., 0, 0, 0],\n",
       "       [0, 0, 0, ..., 0, 0, 0],\n",
       "       [0, 0, 0, ..., 0, 0, 0],\n",
       "       ...,\n",
       "       [0, 0, 0, ..., 0, 0, 0],\n",
       "       [0, 0, 0, ..., 0, 0, 0],\n",
       "       [0, 0, 0, ..., 0, 0, 0]])"
      ]
     },
     "execution_count": 15,
     "metadata": {},
     "output_type": "execute_result"
    }
   ],
   "source": [
    "x_test.toarray()"
   ]
  },
  {
   "cell_type": "markdown",
   "id": "cfcafe59",
   "metadata": {
    "papermill": {
     "duration": 0.015796,
     "end_time": "2023-07-15T13:50:34.790684",
     "exception": false,
     "start_time": "2023-07-15T13:50:34.774888",
     "status": "completed"
    },
    "tags": []
   },
   "source": [
    "### Model training\n",
    "\n",
    "Using Multinomial Naïve Bayes algorithm, which is implemented in sci-kit as `MultinomialNB`"
   ]
  },
  {
   "cell_type": "code",
   "execution_count": 16,
   "id": "1eee908c",
   "metadata": {
    "execution": {
     "iopub.execute_input": "2023-07-15T13:50:34.825900Z",
     "iopub.status.busy": "2023-07-15T13:50:34.825204Z",
     "iopub.status.idle": "2023-07-15T13:50:34.863278Z",
     "shell.execute_reply": "2023-07-15T13:50:34.862176Z"
    },
    "papermill": {
     "duration": 0.058589,
     "end_time": "2023-07-15T13:50:34.865979",
     "exception": false,
     "start_time": "2023-07-15T13:50:34.807390",
     "status": "completed"
    },
    "tags": []
   },
   "outputs": [
    {
     "data": {
      "text/html": [
       "<style>#sk-container-id-1 {color: black;background-color: white;}#sk-container-id-1 pre{padding: 0;}#sk-container-id-1 div.sk-toggleable {background-color: white;}#sk-container-id-1 label.sk-toggleable__label {cursor: pointer;display: block;width: 100%;margin-bottom: 0;padding: 0.3em;box-sizing: border-box;text-align: center;}#sk-container-id-1 label.sk-toggleable__label-arrow:before {content: \"▸\";float: left;margin-right: 0.25em;color: #696969;}#sk-container-id-1 label.sk-toggleable__label-arrow:hover:before {color: black;}#sk-container-id-1 div.sk-estimator:hover label.sk-toggleable__label-arrow:before {color: black;}#sk-container-id-1 div.sk-toggleable__content {max-height: 0;max-width: 0;overflow: hidden;text-align: left;background-color: #f0f8ff;}#sk-container-id-1 div.sk-toggleable__content pre {margin: 0.2em;color: black;border-radius: 0.25em;background-color: #f0f8ff;}#sk-container-id-1 input.sk-toggleable__control:checked~div.sk-toggleable__content {max-height: 200px;max-width: 100%;overflow: auto;}#sk-container-id-1 input.sk-toggleable__control:checked~label.sk-toggleable__label-arrow:before {content: \"▾\";}#sk-container-id-1 div.sk-estimator input.sk-toggleable__control:checked~label.sk-toggleable__label {background-color: #d4ebff;}#sk-container-id-1 div.sk-label input.sk-toggleable__control:checked~label.sk-toggleable__label {background-color: #d4ebff;}#sk-container-id-1 input.sk-hidden--visually {border: 0;clip: rect(1px 1px 1px 1px);clip: rect(1px, 1px, 1px, 1px);height: 1px;margin: -1px;overflow: hidden;padding: 0;position: absolute;width: 1px;}#sk-container-id-1 div.sk-estimator {font-family: monospace;background-color: #f0f8ff;border: 1px dotted black;border-radius: 0.25em;box-sizing: border-box;margin-bottom: 0.5em;}#sk-container-id-1 div.sk-estimator:hover {background-color: #d4ebff;}#sk-container-id-1 div.sk-parallel-item::after {content: \"\";width: 100%;border-bottom: 1px solid gray;flex-grow: 1;}#sk-container-id-1 div.sk-label:hover label.sk-toggleable__label {background-color: #d4ebff;}#sk-container-id-1 div.sk-serial::before {content: \"\";position: absolute;border-left: 1px solid gray;box-sizing: border-box;top: 0;bottom: 0;left: 50%;z-index: 0;}#sk-container-id-1 div.sk-serial {display: flex;flex-direction: column;align-items: center;background-color: white;padding-right: 0.2em;padding-left: 0.2em;position: relative;}#sk-container-id-1 div.sk-item {position: relative;z-index: 1;}#sk-container-id-1 div.sk-parallel {display: flex;align-items: stretch;justify-content: center;background-color: white;position: relative;}#sk-container-id-1 div.sk-item::before, #sk-container-id-1 div.sk-parallel-item::before {content: \"\";position: absolute;border-left: 1px solid gray;box-sizing: border-box;top: 0;bottom: 0;left: 50%;z-index: -1;}#sk-container-id-1 div.sk-parallel-item {display: flex;flex-direction: column;z-index: 1;position: relative;background-color: white;}#sk-container-id-1 div.sk-parallel-item:first-child::after {align-self: flex-end;width: 50%;}#sk-container-id-1 div.sk-parallel-item:last-child::after {align-self: flex-start;width: 50%;}#sk-container-id-1 div.sk-parallel-item:only-child::after {width: 0;}#sk-container-id-1 div.sk-dashed-wrapped {border: 1px dashed gray;margin: 0 0.4em 0.5em 0.4em;box-sizing: border-box;padding-bottom: 0.4em;background-color: white;}#sk-container-id-1 div.sk-label label {font-family: monospace;font-weight: bold;display: inline-block;line-height: 1.2em;}#sk-container-id-1 div.sk-label-container {text-align: center;}#sk-container-id-1 div.sk-container {/* jupyter's `normalize.less` sets `[hidden] { display: none; }` but bootstrap.min.css set `[hidden] { display: none !important; }` so we also need the `!important` here to be able to override the default hidden behavior on the sphinx rendered scikit-learn.org. See: https://github.com/scikit-learn/scikit-learn/issues/21755 */display: inline-block !important;position: relative;}#sk-container-id-1 div.sk-text-repr-fallback {display: none;}</style><div id=\"sk-container-id-1\" class=\"sk-top-container\"><div class=\"sk-text-repr-fallback\"><pre>MultinomialNB()</pre><b>In a Jupyter environment, please rerun this cell to show the HTML representation or trust the notebook. <br />On GitHub, the HTML representation is unable to render, please try loading this page with nbviewer.org.</b></div><div class=\"sk-container\" hidden><div class=\"sk-item\"><div class=\"sk-estimator sk-toggleable\"><input class=\"sk-toggleable__control sk-hidden--visually\" id=\"sk-estimator-id-1\" type=\"checkbox\" checked><label for=\"sk-estimator-id-1\" class=\"sk-toggleable__label sk-toggleable__label-arrow\">MultinomialNB</label><div class=\"sk-toggleable__content\"><pre>MultinomialNB()</pre></div></div></div></div></div>"
      ],
      "text/plain": [
       "MultinomialNB()"
      ]
     },
     "execution_count": 16,
     "metadata": {},
     "output_type": "execute_result"
    }
   ],
   "source": [
    "from sklearn.naive_bayes import MultinomialNB\n",
    "\n",
    "model = MultinomialNB()\n",
    "model.fit(x_train, y_train)"
   ]
  },
  {
   "cell_type": "markdown",
   "id": "cfb1cbf9",
   "metadata": {
    "papermill": {
     "duration": 0.016595,
     "end_time": "2023-07-15T13:50:34.899242",
     "exception": false,
     "start_time": "2023-07-15T13:50:34.882647",
     "status": "completed"
    },
    "tags": []
   },
   "source": [
    "### Model prediction"
   ]
  },
  {
   "cell_type": "code",
   "execution_count": 17,
   "id": "e4bb1f03",
   "metadata": {
    "execution": {
     "iopub.execute_input": "2023-07-15T13:50:34.933830Z",
     "iopub.status.busy": "2023-07-15T13:50:34.933135Z",
     "iopub.status.idle": "2023-07-15T13:50:34.944371Z",
     "shell.execute_reply": "2023-07-15T13:50:34.943358Z"
    },
    "papermill": {
     "duration": 0.031136,
     "end_time": "2023-07-15T13:50:34.946626",
     "exception": false,
     "start_time": "2023-07-15T13:50:34.915490",
     "status": "completed"
    },
    "tags": []
   },
   "outputs": [
    {
     "data": {
      "text/plain": [
       "(7046,)"
      ]
     },
     "execution_count": 17,
     "metadata": {},
     "output_type": "execute_result"
    }
   ],
   "source": [
    "y_pred = model.predict(x_test)\n",
    "y_pred.shape"
   ]
  },
  {
   "cell_type": "code",
   "execution_count": 18,
   "id": "2c2deded",
   "metadata": {
    "execution": {
     "iopub.execute_input": "2023-07-15T13:50:34.981887Z",
     "iopub.status.busy": "2023-07-15T13:50:34.981170Z",
     "iopub.status.idle": "2023-07-15T13:50:34.987744Z",
     "shell.execute_reply": "2023-07-15T13:50:34.986714Z"
    },
    "papermill": {
     "duration": 0.026937,
     "end_time": "2023-07-15T13:50:34.989973",
     "exception": false,
     "start_time": "2023-07-15T13:50:34.963036",
     "status": "completed"
    },
    "tags": []
   },
   "outputs": [
    {
     "data": {
      "text/plain": [
       "array([1., 2., 5., ..., 4., 3., 1.])"
      ]
     },
     "execution_count": 18,
     "metadata": {},
     "output_type": "execute_result"
    }
   ],
   "source": [
    "y_pred"
   ]
  },
  {
   "cell_type": "markdown",
   "id": "ae3408f4",
   "metadata": {
    "papermill": {
     "duration": 0.016225,
     "end_time": "2023-07-15T13:50:35.022758",
     "exception": false,
     "start_time": "2023-07-15T13:50:35.006533",
     "status": "completed"
    },
    "tags": []
   },
   "source": [
    "Getting probability of each predicted class"
   ]
  },
  {
   "cell_type": "code",
   "execution_count": 19,
   "id": "bf25cf69",
   "metadata": {
    "execution": {
     "iopub.execute_input": "2023-07-15T13:50:35.058110Z",
     "iopub.status.busy": "2023-07-15T13:50:35.057329Z",
     "iopub.status.idle": "2023-07-15T13:50:35.070013Z",
     "shell.execute_reply": "2023-07-15T13:50:35.068709Z"
    },
    "papermill": {
     "duration": 0.033161,
     "end_time": "2023-07-15T13:50:35.072400",
     "exception": false,
     "start_time": "2023-07-15T13:50:35.039239",
     "status": "completed"
    },
    "tags": []
   },
   "outputs": [
    {
     "data": {
      "text/plain": [
       "array([[0.45433767, 0.08215679, 0.44111678, 0.00904855, 0.01334022],\n",
       "       [0.08538546, 0.53197259, 0.36096501, 0.00370374, 0.01797319],\n",
       "       [0.04978519, 0.07954803, 0.11784385, 0.31199241, 0.44083052],\n",
       "       ...,\n",
       "       [0.07871327, 0.0343138 , 0.02156397, 0.8608945 , 0.00451447],\n",
       "       [0.09545745, 0.00239741, 0.84956399, 0.01241549, 0.04016567],\n",
       "       [0.65456291, 0.01868614, 0.14266667, 0.04591333, 0.13817096]])"
      ]
     },
     "execution_count": 19,
     "metadata": {},
     "output_type": "execute_result"
    }
   ],
   "source": [
    "model.predict_proba(x_test)"
   ]
  },
  {
   "cell_type": "markdown",
   "id": "35339fcf",
   "metadata": {
    "papermill": {
     "duration": 0.016388,
     "end_time": "2023-07-15T13:50:35.105589",
     "exception": false,
     "start_time": "2023-07-15T13:50:35.089201",
     "status": "completed"
    },
    "tags": []
   },
   "source": [
    "### Model evaluation"
   ]
  },
  {
   "cell_type": "code",
   "execution_count": 20,
   "id": "ec9fee04",
   "metadata": {
    "execution": {
     "iopub.execute_input": "2023-07-15T13:50:35.142028Z",
     "iopub.status.busy": "2023-07-15T13:50:35.141620Z",
     "iopub.status.idle": "2023-07-15T13:50:35.160122Z",
     "shell.execute_reply": "2023-07-15T13:50:35.158500Z"
    },
    "papermill": {
     "duration": 0.039944,
     "end_time": "2023-07-15T13:50:35.162479",
     "exception": false,
     "start_time": "2023-07-15T13:50:35.122535",
     "status": "completed"
    },
    "tags": []
   },
   "outputs": [
    {
     "name": "stdout",
     "output_type": "stream",
     "text": [
      "[[  65   41   46   37   64]\n",
      " [ 158   75   57   80  100]\n",
      " [ 280  176  138  115  152]\n",
      " [ 539  297  217  201  269]\n",
      " [1237  777  619  533  773]]\n"
     ]
    }
   ],
   "source": [
    "from sklearn.metrics import confusion_matrix, classification_report\n",
    "\n",
    "print(confusion_matrix(y_test, y_pred))"
   ]
  },
  {
   "cell_type": "code",
   "execution_count": 21,
   "id": "60323838",
   "metadata": {
    "execution": {
     "iopub.execute_input": "2023-07-15T13:50:35.199225Z",
     "iopub.status.busy": "2023-07-15T13:50:35.198787Z",
     "iopub.status.idle": "2023-07-15T13:50:35.229800Z",
     "shell.execute_reply": "2023-07-15T13:50:35.228142Z"
    },
    "papermill": {
     "duration": 0.052447,
     "end_time": "2023-07-15T13:50:35.232485",
     "exception": false,
     "start_time": "2023-07-15T13:50:35.180038",
     "status": "completed"
    },
    "tags": []
   },
   "outputs": [
    {
     "name": "stdout",
     "output_type": "stream",
     "text": [
      "              precision    recall  f1-score   support\n",
      "\n",
      "         1.0       0.03      0.26      0.05       253\n",
      "         2.0       0.05      0.16      0.08       470\n",
      "         3.0       0.13      0.16      0.14       861\n",
      "         4.0       0.21      0.13      0.16      1523\n",
      "         5.0       0.57      0.20      0.29      3939\n",
      "\n",
      "    accuracy                           0.18      7046\n",
      "   macro avg       0.20      0.18      0.15      7046\n",
      "weighted avg       0.38      0.18      0.22      7046\n",
      "\n"
     ]
    }
   ],
   "source": [
    "print(classification_report(y_test, y_pred))"
   ]
  },
  {
   "cell_type": "markdown",
   "id": "4ce00531",
   "metadata": {
    "papermill": {
     "duration": 0.016502,
     "end_time": "2023-07-15T13:50:35.266045",
     "exception": false,
     "start_time": "2023-07-15T13:50:35.249543",
     "status": "completed"
    },
    "tags": []
   },
   "source": [
    "### Recategorizing ratings as Poor (0) and Good (1)"
   ]
  },
  {
   "cell_type": "code",
   "execution_count": 22,
   "id": "0b932ab1",
   "metadata": {
    "execution": {
     "iopub.execute_input": "2023-07-15T13:50:35.302199Z",
     "iopub.status.busy": "2023-07-15T13:50:35.301304Z",
     "iopub.status.idle": "2023-07-15T13:50:35.311774Z",
     "shell.execute_reply": "2023-07-15T13:50:35.310622Z"
    },
    "papermill": {
     "duration": 0.031261,
     "end_time": "2023-07-15T13:50:35.314182",
     "exception": false,
     "start_time": "2023-07-15T13:50:35.282921",
     "status": "completed"
    },
    "tags": []
   },
   "outputs": [
    {
     "data": {
      "text/plain": [
       "5.0    13131\n",
       "4.0     5077\n",
       "3.0     2871\n",
       "2.0     1565\n",
       "1.0      842\n",
       "Name: Rating, dtype: int64"
      ]
     },
     "execution_count": 22,
     "metadata": {},
     "output_type": "execute_result"
    }
   ],
   "source": [
    "df[\"Rating\"].value_counts()"
   ]
  },
  {
   "cell_type": "markdown",
   "id": "32d5e639",
   "metadata": {
    "papermill": {
     "duration": 0.016865,
     "end_time": "2023-07-15T13:50:35.348659",
     "exception": false,
     "start_time": "2023-07-15T13:50:35.331794",
     "status": "completed"
    },
    "tags": []
   },
   "source": [
    "re-rating 1,2,3 as 0 and 4,5 as 1"
   ]
  },
  {
   "cell_type": "code",
   "execution_count": 23,
   "id": "5f3ab7ac",
   "metadata": {
    "execution": {
     "iopub.execute_input": "2023-07-15T13:50:35.384736Z",
     "iopub.status.busy": "2023-07-15T13:50:35.384352Z",
     "iopub.status.idle": "2023-07-15T13:50:35.393374Z",
     "shell.execute_reply": "2023-07-15T13:50:35.392317Z"
    },
    "papermill": {
     "duration": 0.030163,
     "end_time": "2023-07-15T13:50:35.395965",
     "exception": false,
     "start_time": "2023-07-15T13:50:35.365802",
     "status": "completed"
    },
    "tags": []
   },
   "outputs": [],
   "source": [
    "df.replace({'Rating': { 1:0, 2:0, 3:0, 4:1, 5:1 }}, inplace=True)\n",
    "y = df['Rating']\n",
    "x = df['Review']"
   ]
  },
  {
   "cell_type": "markdown",
   "id": "1bb91fb5",
   "metadata": {
    "papermill": {
     "duration": 0.016978,
     "end_time": "2023-07-15T13:50:35.431007",
     "exception": false,
     "start_time": "2023-07-15T13:50:35.414029",
     "status": "completed"
    },
    "tags": []
   },
   "source": [
    "### Train Test Split"
   ]
  },
  {
   "cell_type": "code",
   "execution_count": 24,
   "id": "ab65a9b8",
   "metadata": {
    "execution": {
     "iopub.execute_input": "2023-07-15T13:50:35.467035Z",
     "iopub.status.busy": "2023-07-15T13:50:35.466649Z",
     "iopub.status.idle": "2023-07-15T13:50:35.489138Z",
     "shell.execute_reply": "2023-07-15T13:50:35.488030Z"
    },
    "papermill": {
     "duration": 0.043098,
     "end_time": "2023-07-15T13:50:35.491335",
     "exception": false,
     "start_time": "2023-07-15T13:50:35.448237",
     "status": "completed"
    },
    "tags": []
   },
   "outputs": [
    {
     "data": {
      "text/plain": [
       "((16440,), (7046,), (16440,), (7046,))"
      ]
     },
     "execution_count": 24,
     "metadata": {},
     "output_type": "execute_result"
    }
   ],
   "source": [
    "from sklearn.model_selection import train_test_split\n",
    "\n",
    "x_train, x_test, y_train, y_test = train_test_split(x, y, train_size=0.7, stratify=y, random_state=2529)\n",
    "x_train.shape, x_test.shape, y_train.shape, y_test.shape"
   ]
  },
  {
   "cell_type": "markdown",
   "id": "edda4ff5",
   "metadata": {
    "papermill": {
     "duration": 0.017021,
     "end_time": "2023-07-15T13:50:35.525558",
     "exception": false,
     "start_time": "2023-07-15T13:50:35.508537",
     "status": "completed"
    },
    "tags": []
   },
   "source": [
    "### Getting Tokens from Feature Text"
   ]
  },
  {
   "cell_type": "code",
   "execution_count": 25,
   "id": "b6ef6f2e",
   "metadata": {
    "execution": {
     "iopub.execute_input": "2023-07-15T13:50:35.561760Z",
     "iopub.status.busy": "2023-07-15T13:50:35.561326Z",
     "iopub.status.idle": "2023-07-15T13:50:41.339629Z",
     "shell.execute_reply": "2023-07-15T13:50:41.338747Z"
    },
    "papermill": {
     "duration": 5.799546,
     "end_time": "2023-07-15T13:50:41.342333",
     "exception": false,
     "start_time": "2023-07-15T13:50:35.542787",
     "status": "completed"
    },
    "tags": []
   },
   "outputs": [],
   "source": [
    "from sklearn.feature_extraction.text import CountVectorizer\n",
    "\n",
    "cv = CountVectorizer(lowercase=True, analyzer='word', ngram_range=(2, 3), stop_words='english', max_features=50000)\n",
    "x_train = cv.fit_transform(x_train)\n",
    "x_test = cv.fit_transform(x_test)"
   ]
  },
  {
   "cell_type": "markdown",
   "id": "8ffe60fa",
   "metadata": {
    "papermill": {
     "duration": 0.017204,
     "end_time": "2023-07-15T13:50:41.377164",
     "exception": false,
     "start_time": "2023-07-15T13:50:41.359960",
     "status": "completed"
    },
    "tags": []
   },
   "source": [
    "### Model re-training"
   ]
  },
  {
   "cell_type": "code",
   "execution_count": 26,
   "id": "c48c0ddd",
   "metadata": {
    "execution": {
     "iopub.execute_input": "2023-07-15T13:50:41.414123Z",
     "iopub.status.busy": "2023-07-15T13:50:41.413416Z",
     "iopub.status.idle": "2023-07-15T13:50:41.430237Z",
     "shell.execute_reply": "2023-07-15T13:50:41.429057Z"
    },
    "papermill": {
     "duration": 0.038394,
     "end_time": "2023-07-15T13:50:41.432881",
     "exception": false,
     "start_time": "2023-07-15T13:50:41.394487",
     "status": "completed"
    },
    "tags": []
   },
   "outputs": [
    {
     "data": {
      "text/html": [
       "<style>#sk-container-id-2 {color: black;background-color: white;}#sk-container-id-2 pre{padding: 0;}#sk-container-id-2 div.sk-toggleable {background-color: white;}#sk-container-id-2 label.sk-toggleable__label {cursor: pointer;display: block;width: 100%;margin-bottom: 0;padding: 0.3em;box-sizing: border-box;text-align: center;}#sk-container-id-2 label.sk-toggleable__label-arrow:before {content: \"▸\";float: left;margin-right: 0.25em;color: #696969;}#sk-container-id-2 label.sk-toggleable__label-arrow:hover:before {color: black;}#sk-container-id-2 div.sk-estimator:hover label.sk-toggleable__label-arrow:before {color: black;}#sk-container-id-2 div.sk-toggleable__content {max-height: 0;max-width: 0;overflow: hidden;text-align: left;background-color: #f0f8ff;}#sk-container-id-2 div.sk-toggleable__content pre {margin: 0.2em;color: black;border-radius: 0.25em;background-color: #f0f8ff;}#sk-container-id-2 input.sk-toggleable__control:checked~div.sk-toggleable__content {max-height: 200px;max-width: 100%;overflow: auto;}#sk-container-id-2 input.sk-toggleable__control:checked~label.sk-toggleable__label-arrow:before {content: \"▾\";}#sk-container-id-2 div.sk-estimator input.sk-toggleable__control:checked~label.sk-toggleable__label {background-color: #d4ebff;}#sk-container-id-2 div.sk-label input.sk-toggleable__control:checked~label.sk-toggleable__label {background-color: #d4ebff;}#sk-container-id-2 input.sk-hidden--visually {border: 0;clip: rect(1px 1px 1px 1px);clip: rect(1px, 1px, 1px, 1px);height: 1px;margin: -1px;overflow: hidden;padding: 0;position: absolute;width: 1px;}#sk-container-id-2 div.sk-estimator {font-family: monospace;background-color: #f0f8ff;border: 1px dotted black;border-radius: 0.25em;box-sizing: border-box;margin-bottom: 0.5em;}#sk-container-id-2 div.sk-estimator:hover {background-color: #d4ebff;}#sk-container-id-2 div.sk-parallel-item::after {content: \"\";width: 100%;border-bottom: 1px solid gray;flex-grow: 1;}#sk-container-id-2 div.sk-label:hover label.sk-toggleable__label {background-color: #d4ebff;}#sk-container-id-2 div.sk-serial::before {content: \"\";position: absolute;border-left: 1px solid gray;box-sizing: border-box;top: 0;bottom: 0;left: 50%;z-index: 0;}#sk-container-id-2 div.sk-serial {display: flex;flex-direction: column;align-items: center;background-color: white;padding-right: 0.2em;padding-left: 0.2em;position: relative;}#sk-container-id-2 div.sk-item {position: relative;z-index: 1;}#sk-container-id-2 div.sk-parallel {display: flex;align-items: stretch;justify-content: center;background-color: white;position: relative;}#sk-container-id-2 div.sk-item::before, #sk-container-id-2 div.sk-parallel-item::before {content: \"\";position: absolute;border-left: 1px solid gray;box-sizing: border-box;top: 0;bottom: 0;left: 50%;z-index: -1;}#sk-container-id-2 div.sk-parallel-item {display: flex;flex-direction: column;z-index: 1;position: relative;background-color: white;}#sk-container-id-2 div.sk-parallel-item:first-child::after {align-self: flex-end;width: 50%;}#sk-container-id-2 div.sk-parallel-item:last-child::after {align-self: flex-start;width: 50%;}#sk-container-id-2 div.sk-parallel-item:only-child::after {width: 0;}#sk-container-id-2 div.sk-dashed-wrapped {border: 1px dashed gray;margin: 0 0.4em 0.5em 0.4em;box-sizing: border-box;padding-bottom: 0.4em;background-color: white;}#sk-container-id-2 div.sk-label label {font-family: monospace;font-weight: bold;display: inline-block;line-height: 1.2em;}#sk-container-id-2 div.sk-label-container {text-align: center;}#sk-container-id-2 div.sk-container {/* jupyter's `normalize.less` sets `[hidden] { display: none; }` but bootstrap.min.css set `[hidden] { display: none !important; }` so we also need the `!important` here to be able to override the default hidden behavior on the sphinx rendered scikit-learn.org. See: https://github.com/scikit-learn/scikit-learn/issues/21755 */display: inline-block !important;position: relative;}#sk-container-id-2 div.sk-text-repr-fallback {display: none;}</style><div id=\"sk-container-id-2\" class=\"sk-top-container\"><div class=\"sk-text-repr-fallback\"><pre>MultinomialNB()</pre><b>In a Jupyter environment, please rerun this cell to show the HTML representation or trust the notebook. <br />On GitHub, the HTML representation is unable to render, please try loading this page with nbviewer.org.</b></div><div class=\"sk-container\" hidden><div class=\"sk-item\"><div class=\"sk-estimator sk-toggleable\"><input class=\"sk-toggleable__control sk-hidden--visually\" id=\"sk-estimator-id-2\" type=\"checkbox\" checked><label for=\"sk-estimator-id-2\" class=\"sk-toggleable__label sk-toggleable__label-arrow\">MultinomialNB</label><div class=\"sk-toggleable__content\"><pre>MultinomialNB()</pre></div></div></div></div></div>"
      ],
      "text/plain": [
       "MultinomialNB()"
      ]
     },
     "execution_count": 26,
     "metadata": {},
     "output_type": "execute_result"
    }
   ],
   "source": [
    "from sklearn.naive_bayes import MultinomialNB\n",
    "\n",
    "model = MultinomialNB()\n",
    "model.fit(x_train, y_train)"
   ]
  },
  {
   "cell_type": "markdown",
   "id": "415b95de",
   "metadata": {
    "papermill": {
     "duration": 0.017321,
     "end_time": "2023-07-15T13:50:41.467791",
     "exception": false,
     "start_time": "2023-07-15T13:50:41.450470",
     "status": "completed"
    },
    "tags": []
   },
   "source": [
    "### Model prediction"
   ]
  },
  {
   "cell_type": "code",
   "execution_count": 27,
   "id": "432a5d81",
   "metadata": {
    "execution": {
     "iopub.execute_input": "2023-07-15T13:50:41.504682Z",
     "iopub.status.busy": "2023-07-15T13:50:41.504275Z",
     "iopub.status.idle": "2023-07-15T13:50:41.512654Z",
     "shell.execute_reply": "2023-07-15T13:50:41.511792Z"
    },
    "papermill": {
     "duration": 0.029455,
     "end_time": "2023-07-15T13:50:41.514826",
     "exception": false,
     "start_time": "2023-07-15T13:50:41.485371",
     "status": "completed"
    },
    "tags": []
   },
   "outputs": [
    {
     "data": {
      "text/plain": [
       "(7046,)"
      ]
     },
     "execution_count": 27,
     "metadata": {},
     "output_type": "execute_result"
    }
   ],
   "source": [
    "y_pred = model.predict(x_test)\n",
    "y_pred.shape"
   ]
  },
  {
   "cell_type": "code",
   "execution_count": 28,
   "id": "64a9d210",
   "metadata": {
    "execution": {
     "iopub.execute_input": "2023-07-15T13:50:41.552320Z",
     "iopub.status.busy": "2023-07-15T13:50:41.551927Z",
     "iopub.status.idle": "2023-07-15T13:50:41.558727Z",
     "shell.execute_reply": "2023-07-15T13:50:41.557354Z"
    },
    "papermill": {
     "duration": 0.028762,
     "end_time": "2023-07-15T13:50:41.561374",
     "exception": false,
     "start_time": "2023-07-15T13:50:41.532612",
     "status": "completed"
    },
    "tags": []
   },
   "outputs": [
    {
     "data": {
      "text/plain": [
       "array([0., 0., 1., ..., 1., 1., 1.])"
      ]
     },
     "execution_count": 28,
     "metadata": {},
     "output_type": "execute_result"
    }
   ],
   "source": [
    "y_pred"
   ]
  },
  {
   "cell_type": "markdown",
   "id": "23a14827",
   "metadata": {
    "papermill": {
     "duration": 0.017721,
     "end_time": "2023-07-15T13:50:41.597571",
     "exception": false,
     "start_time": "2023-07-15T13:50:41.579850",
     "status": "completed"
    },
    "tags": []
   },
   "source": [
    "### Model evaluation"
   ]
  },
  {
   "cell_type": "code",
   "execution_count": 29,
   "id": "67e70ef6",
   "metadata": {
    "execution": {
     "iopub.execute_input": "2023-07-15T13:50:41.635482Z",
     "iopub.status.busy": "2023-07-15T13:50:41.635047Z",
     "iopub.status.idle": "2023-07-15T13:50:41.651573Z",
     "shell.execute_reply": "2023-07-15T13:50:41.650365Z"
    },
    "papermill": {
     "duration": 0.038255,
     "end_time": "2023-07-15T13:50:41.653804",
     "exception": false,
     "start_time": "2023-07-15T13:50:41.615549",
     "status": "completed"
    },
    "tags": []
   },
   "outputs": [
    {
     "name": "stdout",
     "output_type": "stream",
     "text": [
      "[[ 712  871]\n",
      " [2643 2820]]\n"
     ]
    }
   ],
   "source": [
    "from sklearn.metrics import confusion_matrix, classification_report\n",
    "\n",
    "print(confusion_matrix(y_test, y_pred))"
   ]
  },
  {
   "cell_type": "code",
   "execution_count": 30,
   "id": "39714078",
   "metadata": {
    "execution": {
     "iopub.execute_input": "2023-07-15T13:50:41.692309Z",
     "iopub.status.busy": "2023-07-15T13:50:41.691642Z",
     "iopub.status.idle": "2023-07-15T13:50:41.721897Z",
     "shell.execute_reply": "2023-07-15T13:50:41.720711Z"
    },
    "papermill": {
     "duration": 0.052189,
     "end_time": "2023-07-15T13:50:41.724731",
     "exception": false,
     "start_time": "2023-07-15T13:50:41.672542",
     "status": "completed"
    },
    "tags": []
   },
   "outputs": [
    {
     "name": "stdout",
     "output_type": "stream",
     "text": [
      "              precision    recall  f1-score   support\n",
      "\n",
      "         0.0       0.21      0.45      0.29      1583\n",
      "         1.0       0.76      0.52      0.62      5463\n",
      "\n",
      "    accuracy                           0.50      7046\n",
      "   macro avg       0.49      0.48      0.45      7046\n",
      "weighted avg       0.64      0.50      0.54      7046\n",
      "\n"
     ]
    }
   ],
   "source": [
    "print(classification_report(y_test, y_pred))"
   ]
  },
  {
   "cell_type": "markdown",
   "id": "5dc0ac28",
   "metadata": {
    "papermill": {
     "duration": 0.018041,
     "end_time": "2023-07-15T13:50:41.761409",
     "exception": false,
     "start_time": "2023-07-15T13:50:41.743368",
     "status": "completed"
    },
    "tags": []
   },
   "source": [
    "### Explanation\n",
    "\n",
    "This project is focused on building a prediction model. At first, the all required libraries and a test dataset are imported. The dataset was evaluated and pre processed to prepare for it for processing, then a portion of it was kept for testing and the rest was used to train the model. The model was used to get some prediction dataset. Finnaly, prediction accuracy was checked against the test dataset, some adjusment were made and the model was re-trained for better accuracy."
   ]
  }
 ],
 "metadata": {
  "kernelspec": {
   "display_name": "Python 3",
   "language": "python",
   "name": "python3"
  },
  "language_info": {
   "codemirror_mode": {
    "name": "ipython",
    "version": 3
   },
   "file_extension": ".py",
   "mimetype": "text/x-python",
   "name": "python",
   "nbconvert_exporter": "python",
   "pygments_lexer": "ipython3",
   "version": "3.10.12"
  },
  "papermill": {
   "default_parameters": {},
   "duration": 29.993582,
   "end_time": "2023-07-15T13:50:42.912601",
   "environment_variables": {},
   "exception": null,
   "input_path": "__notebook__.ipynb",
   "output_path": "__notebook__.ipynb",
   "parameters": {},
   "start_time": "2023-07-15T13:50:12.919019",
   "version": "2.4.0"
  }
 },
 "nbformat": 4,
 "nbformat_minor": 5
}
